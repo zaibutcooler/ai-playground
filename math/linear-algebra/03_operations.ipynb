{
 "cells": [
  {
   "cell_type": "markdown",
   "id": "80a559fa-186d-45f4-b482-a84490e31595",
   "metadata": {},
   "source": [
    "## Matrice Operations"
   ]
  },
  {
   "cell_type": "markdown",
   "id": "c1c2f6c6-69d8-4724-b139-382ff9fd89a7",
   "metadata": {},
   "source": [
    "#### Matrix Addition and Subtraction \n",
    "\n",
    "Simple and already known, just operate in the same index of each rows and columns. \n",
    "\n",
    "It can only be operate in same length of the matrix."
   ]
  },
  {
   "cell_type": "markdown",
   "id": "a3583ea4-109b-4a44-add5-4ee03daec61d",
   "metadata": {},
   "source": [
    "#### Scalar Multiplication\n",
    "\n",
    "Multiply with the scalar/constant in front of the matrix. And multiply to all.\n"
   ]
  },
  {
   "cell_type": "markdown",
   "id": "3eaad2f5-e9a9-4c43-afdc-eb10b6305c63",
   "metadata": {},
   "source": [
    "#### Matrix Multiplication \n",
    "\n",
    "Multiplying two matrices and produce another matrix. The number of rows in the fisrt column has to be equatl to the number of columns in the first row.\n"
   ]
  },
  {
   "cell_type": "markdown",
   "id": "3d151b4b-7588-4dab-9f28-517eca4c4640",
   "metadata": {},
   "source": [
    "#### Transpose\n",
    "\n",
    "Flipping the matrix. Rows became column and columns became rows.\n"
   ]
  },
  {
   "cell_type": "markdown",
   "id": "c0100798-6765-48d7-a524-08c26b75ce3d",
   "metadata": {},
   "source": [
    "#### Determinant\n",
    "\n",
    "Scalar Value that can be computed from the element. Can be seen as det(A) or |A|.\n",
    "\n",
    "The formulae is [[a,b],[c,d]] is ad-bc. (3x3 is a bit complicated but you got the idea.)\n"
   ]
  },
  {
   "cell_type": "markdown",
   "id": "4e76fe5c-bc12-464d-8263-976e5cac9a08",
   "metadata": {},
   "source": [
    "#### Inverse Matrix\n",
    "\n",
    "When we multiply inverse matrix(A^-1) with original matrix (A), we got identitiy matrix.(Cross numbers of 1 idk) .\n",
    "\n"
   ]
  },
  {
   "cell_type": "markdown",
   "id": "4d83fe6d-eb46-4051-82d2-c4d6b95de50e",
   "metadata": {},
   "source": [
    "#### Matrix Power\n",
    "\n",
    "Similar to scalar varialbes, multiplying two matrices(A x A) is equal to (A^2).\n"
   ]
  },
  {
   "cell_type": "markdown",
   "id": "14c403d7-54d1-48b0-9c7e-0b2560ff0b03",
   "metadata": {},
   "source": [
    "#### Eigenvalues and Eigenvectors\n",
    "\n",
    "Describes how a transformation(represented by the matrix) affects the direction of it's eiganvectors.\n",
    "\n",
    "To find the eiganvalue, (A-Lambda*I)v = 0\n"
   ]
  },
  {
   "cell_type": "markdown",
   "id": "072b66be-64c0-432e-a0f3-22c66a3e4be9",
   "metadata": {},
   "source": [
    "#### Matrix Decomposition\n",
    "\n",
    "Known as matrix factorization. Breaking down the matrix to simpler and more managable parts.\n",
    "\n",
    "LU Decomposition, Qr decomposition, Eigenvalue decomposition, and sigular value decomposition.\n"
   ]
  },
  {
   "cell_type": "markdown",
   "id": "c9bcb47c-e480-41b5-abc7-7c19240f3e4d",
   "metadata": {},
   "source": [
    "#### Matrix Norms"
   ]
  },
  {
   "cell_type": "markdown",
   "id": "944a25b9-c7b4-48fa-92a2-7732f18e49ea",
   "metadata": {},
   "source": []
  },
  {
   "cell_type": "markdown",
   "id": "7e69153d-6698-4381-970d-cbdb79661c53",
   "metadata": {},
   "source": []
  },
  {
   "cell_type": "markdown",
   "id": "99c46892-715f-4a6c-a62b-032ce7473731",
   "metadata": {},
   "source": []
  },
  {
   "cell_type": "markdown",
   "id": "b3e5b22e-1be7-465e-9e0a-fee066d7d3c9",
   "metadata": {},
   "source": []
  },
  {
   "cell_type": "markdown",
   "id": "2587cc23-40b4-4e4f-842f-184ef5ff3d61",
   "metadata": {},
   "source": []
  },
  {
   "cell_type": "markdown",
   "id": "b606b2cc-7925-4b1a-b63a-56f77f7ca1ee",
   "metadata": {},
   "source": []
  },
  {
   "cell_type": "markdown",
   "id": "443edc95-d78e-4c1e-9076-a3a091ab2c93",
   "metadata": {},
   "source": []
  },
  {
   "cell_type": "markdown",
   "id": "5919b43a-01fb-4867-935a-e2d522293bf3",
   "metadata": {},
   "source": []
  },
  {
   "cell_type": "code",
   "execution_count": null,
   "id": "7548802a-5110-4247-b8da-0a1301e50354",
   "metadata": {},
   "outputs": [],
   "source": []
  },
  {
   "cell_type": "code",
   "execution_count": null,
   "id": "c424b7ea-699c-40a9-80a3-58e84fc0cc2b",
   "metadata": {},
   "outputs": [],
   "source": []
  },
  {
   "cell_type": "code",
   "execution_count": null,
   "id": "9132f88c-443d-4b2f-aed9-e7f2e7d5e00d",
   "metadata": {},
   "outputs": [],
   "source": []
  },
  {
   "cell_type": "code",
   "execution_count": null,
   "id": "3a83ef3d-b340-4d32-9a35-b7cf270b5021",
   "metadata": {},
   "outputs": [],
   "source": []
  },
  {
   "cell_type": "code",
   "execution_count": null,
   "id": "9ffcf495-5d6c-417c-a9f1-e137d9e6deb0",
   "metadata": {},
   "outputs": [],
   "source": []
  },
  {
   "cell_type": "code",
   "execution_count": null,
   "id": "13c6c5f1-c93b-431d-b297-2d193e431cb5",
   "metadata": {},
   "outputs": [],
   "source": []
  }
 ],
 "metadata": {
  "kernelspec": {
   "display_name": "Python 3 (ipykernel)",
   "language": "python",
   "name": "python3"
  },
  "language_info": {
   "codemirror_mode": {
    "name": "ipython",
    "version": 3
   },
   "file_extension": ".py",
   "mimetype": "text/x-python",
   "name": "python",
   "nbconvert_exporter": "python",
   "pygments_lexer": "ipython3",
   "version": "3.10.13"
  }
 },
 "nbformat": 4,
 "nbformat_minor": 5
}
