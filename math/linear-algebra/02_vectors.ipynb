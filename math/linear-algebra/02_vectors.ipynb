{
 "cells": [
  {
   "cell_type": "markdown",
   "id": "5f705450-466f-4024-80d0-9553e3ea7aba",
   "metadata": {},
   "source": [
    "## Vectors\n",
    "\n",
    "It depends on who the student is, for physics students these are arrows and for cs students these are arrays\n",
    "\n"
   ]
  },
  {
   "cell_type": "markdown",
   "id": "d5334906-c83a-4a3e-beb9-e7adb49e42b9",
   "metadata": {},
   "source": [
    "#### Linearly Dependant\n",
    "\n",
    "As far as I understand, linearly dependant means two vectors are at the same line (could be wrong)\n"
   ]
  },
  {
   "cell_type": "markdown",
   "id": "00e20866-5124-462e-98b5-3fd7c22bb3e9",
   "metadata": {},
   "source": [
    "#### Linear Transformations (functions)\n",
    "\n",
    "Take a vector as input and spit out another vector as output. (Squashing the space aka grids) \n",
    "\n",
    "Why we call transformation?? \n",
    "Grid line remail parallel and evenly spaced because not like scalar functions, it's more interesting\n",
    "\n",
    "Read the matrices when trying to multiply right to left because of this, f(g(x)) got it?\n",
    "\n",
    "Order does matter in matrices multiplications\n"
   ]
  },
  {
   "cell_type": "markdown",
   "id": "c6715311-46a5-4337-a5fb-8d89b644cc1f",
   "metadata": {},
   "source": [
    "#### Determinant\n",
    "\n",
    "After some linear transformations, the grids(area of thing) or whatever you call changes.Like after some transformations, some (1,1) grid becomes 3,2 rectangle based on the function. But some doesn't change. So if we know how (1,1) grid changes, we can know how things changes.\n",
    "\n",
    "So it is the **determinant** of the transformation, how things has changed after formations\n",
    "\n",
    "Think of the space as a paper some times it flips\n",
    "\n"
   ]
  },
  {
   "cell_type": "markdown",
   "id": "bd4f0586-2912-4ab2-95e7-9c037f285907",
   "metadata": {},
   "source": [
    "#### Inverse Matrices\n",
    "\n",
    "Pretty obvious, the opposite matrices. it is used to calculate things\n",
    "\n",
    "#### Rank of matrices\n",
    "Number of dimension in the output \n",
    "\n",
    "#### Gaussian Eliminations\n",
    "\n",
    "\n",
    "#### Duality\n",
    "\n"
   ]
  },
  {
   "cell_type": "markdown",
   "id": "2265cba7-f6df-43f2-a9cf-0cb536124ed8",
   "metadata": {},
   "source": [
    "#### Dot product\n",
    "\n",
    "It's simple it's just multiplying the number and sum up. But remember, dot product(result) is a scalar.\n",
    "\n",
    "Eg: a = <2,4> and b = <1,3> | a dot b = b dot a too\n",
    "\n",
    "a dot b = [2*1] + [4*(-3)] = 2-12 = -10\n",
    "\n",
    "\n",
    "#### Cross product\n",
    "The cross product of two vectors in 2D produces a new vector perpendicular to the plane formed by the original vectors, with a magnitude equal to the determinant of a special 2x2 matrix formed from their components.\n",
    "\n",
    "Eg : a = <2, 4> and \n",
    "b = <1, 3>\r\n",
    "\r\n",
    "The cross product of a and bis:\r\n",
    "a x b = (2 * 3) - (4 * 1) = 6 - 4 \n",
    "\n",
    "- The cross product of a x b is a parallelogram  =- The cross product is always the 90degree of the two vectors. (right hand test or whatever)\n",
    "- The cross product's length equal to the area of the two vectors 2\n",
    "\n",
    "\n"
   ]
  },
  {
   "cell_type": "markdown",
   "id": "b38e1587-a1e0-4fe7-b030-4aede4c98d60",
   "metadata": {},
   "source": []
  },
  {
   "cell_type": "markdown",
   "id": "63386a6a-02bd-4c09-b992-3f653bd723b9",
   "metadata": {},
   "source": []
  }
 ],
 "metadata": {
  "kernelspec": {
   "display_name": "Python 3 (ipykernel)",
   "language": "python",
   "name": "python3"
  },
  "language_info": {
   "codemirror_mode": {
    "name": "ipython",
    "version": 3
   },
   "file_extension": ".py",
   "mimetype": "text/x-python",
   "name": "python",
   "nbconvert_exporter": "python",
   "pygments_lexer": "ipython3",
   "version": "3.10.13"
  }
 },
 "nbformat": 4,
 "nbformat_minor": 5
}
