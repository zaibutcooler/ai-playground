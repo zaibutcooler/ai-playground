{
 "cells": [
  {
   "cell_type": "markdown",
   "id": "b3edfe68-f5ed-4bd8-881f-9a2e33480a72",
   "metadata": {},
   "source": [
    "# Linear Algebra\n",
    "\n",
    "### Scalar\n",
    "Only one value as we all see. (1,2,3)\n",
    "\n",
    "### Vector\n",
    "Two dimensional value, ([1,2], [2,3])\n",
    "\n",
    "\n",
    "### Matrix\n",
    "Three Dimensional value, ([[1,2], [2,3],[2,3]]\n",
    "\n",
    "### Tensor\n",
    "Multidimensional value (More than 3)\n"
   ]
  },
  {
   "cell_type": "markdown",
   "id": "37404bd6-daa1-41e1-bd8d-d16bd5cd5598",
   "metadata": {},
   "source": [
    "## "
   ]
  },
  {
   "cell_type": "markdown",
   "id": "7144c2a6-b51a-425a-871a-6762029caa78",
   "metadata": {},
   "source": []
  },
  {
   "cell_type": "markdown",
   "id": "fb2db518-704e-4f29-9b1e-7e76174a8cd1",
   "metadata": {},
   "source": []
  },
  {
   "cell_type": "markdown",
   "id": "25a68dbd-b37b-44be-8ef3-3a8a4bd8ef6f",
   "metadata": {},
   "source": []
  },
  {
   "cell_type": "markdown",
   "id": "7de53854-d01f-463a-8f13-bb072b37d7b8",
   "metadata": {},
   "source": []
  },
  {
   "cell_type": "markdown",
   "id": "3724ac8e-07b9-47a6-9ee1-b76acd418168",
   "metadata": {},
   "source": []
  },
  {
   "cell_type": "markdown",
   "id": "ea336687-d0b5-437e-bec8-b879ca82a154",
   "metadata": {},
   "source": []
  },
  {
   "cell_type": "markdown",
   "id": "09467fed-d317-4bbe-b91f-2f9b004b35db",
   "metadata": {},
   "source": []
  },
  {
   "cell_type": "markdown",
   "id": "a0a8143f-585c-4bc9-8fef-2f446fc0d340",
   "metadata": {},
   "source": []
  }
 ],
 "metadata": {
  "kernelspec": {
   "display_name": "Python 3 (ipykernel)",
   "language": "python",
   "name": "python3"
  },
  "language_info": {
   "codemirror_mode": {
    "name": "ipython",
    "version": 3
   },
   "file_extension": ".py",
   "mimetype": "text/x-python",
   "name": "python",
   "nbconvert_exporter": "python",
   "pygments_lexer": "ipython3",
   "version": "3.10.13"
  }
 },
 "nbformat": 4,
 "nbformat_minor": 5
}
