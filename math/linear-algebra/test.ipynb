{
 "cells": [
  {
   "cell_type": "code",
   "execution_count": 1,
   "metadata": {},
   "outputs": [],
   "source": [
    "import numpy as np\n",
    "import sympy as sp"
   ]
  },
  {
   "cell_type": "code",
   "execution_count": 7,
   "metadata": {},
   "outputs": [],
   "source": [
    "arx = np.random.rand(7)\n",
    "ary = np.random.rand(7,7)"
   ]
  },
  {
   "cell_type": "code",
   "execution_count": 8,
   "metadata": {},
   "outputs": [
    {
     "data": {
      "text/plain": [
       "array([0.10415854, 0.24764035, 0.72045454, 0.57106755, 0.04892668,\n",
       "       0.05736506, 0.80075788])"
      ]
     },
     "execution_count": 8,
     "metadata": {},
     "output_type": "execute_result"
    }
   ],
   "source": [
    "arx"
   ]
  },
  {
   "cell_type": "code",
   "execution_count": 9,
   "metadata": {},
   "outputs": [
    {
     "data": {
      "text/plain": [
       "array([[0.71047628, 0.74295145, 0.89397434, 0.39885177, 0.43407192,\n",
       "        0.929113  , 0.1660118 ],\n",
       "       [0.57786142, 0.68868814, 0.63071716, 0.34991557, 0.97426565,\n",
       "        0.78257966, 0.21163812],\n",
       "       [0.48759498, 0.750937  , 0.74272725, 0.02820765, 0.42535529,\n",
       "        0.03910078, 0.62517649],\n",
       "       [0.45114868, 0.97189135, 0.90338575, 0.89756835, 0.26388174,\n",
       "        0.16340553, 0.99961852],\n",
       "       [0.48584363, 0.47313408, 0.8581797 , 0.12713007, 0.4727533 ,\n",
       "        0.25684144, 0.36124087],\n",
       "       [0.69727542, 0.18777985, 0.71178209, 0.83402419, 0.33077301,\n",
       "        0.63169174, 0.31854481],\n",
       "       [0.15653652, 0.79311042, 0.73631088, 0.08149274, 0.87278846,\n",
       "        0.47610153, 0.22167221]])"
      ]
     },
     "execution_count": 9,
     "metadata": {},
     "output_type": "execute_result"
    }
   ],
   "source": [
    "ary"
   ]
  },
  {
   "cell_type": "code",
   "execution_count": 13,
   "metadata": {},
   "outputs": [
    {
     "data": {
      "text/plain": [
       "array([1.01514818, 2.0129736 , 1.97272764, 0.78041138, 1.48462053,\n",
       "       0.84210477, 1.30441606])"
      ]
     },
     "execution_count": 13,
     "metadata": {},
     "output_type": "execute_result"
    }
   ],
   "source": [
    "multiplication = np.dot(arx,ary)\n",
    "multiplication"
   ]
  },
  {
   "cell_type": "code",
   "execution_count": 14,
   "metadata": {},
   "outputs": [],
   "source": [
    "x,y = sp.symbols('x y')"
   ]
  },
  {
   "cell_type": "code",
   "execution_count": 17,
   "metadata": {},
   "outputs": [
    {
     "data": {
      "text/plain": [
       "{x: 3, y: -1}"
      ]
     },
     "execution_count": 17,
     "metadata": {},
     "output_type": "execute_result"
    }
   ],
   "source": [
    "eq1 = sp.Eq(2*x+y,5)\n",
    "eq2 = sp.Eq(x-y,5-1)\n",
    "\n",
    "eq1\n",
    "solution = sp.solve((eq1,eq2),(x,y))\n",
    "solution"
   ]
  },
  {
   "cell_type": "code",
   "execution_count": null,
   "metadata": {},
   "outputs": [],
   "source": []
  }
 ],
 "metadata": {
  "kernelspec": {
   "display_name": "ai_env",
   "language": "python",
   "name": "python3"
  },
  "language_info": {
   "codemirror_mode": {
    "name": "ipython",
    "version": 3
   },
   "file_extension": ".py",
   "mimetype": "text/x-python",
   "name": "python",
   "nbconvert_exporter": "python",
   "pygments_lexer": "ipython3",
   "version": "3.10.13"
  }
 },
 "nbformat": 4,
 "nbformat_minor": 2
}
