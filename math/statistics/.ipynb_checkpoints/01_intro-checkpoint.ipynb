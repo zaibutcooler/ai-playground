{
 "cells": [
  {
   "cell_type": "markdown",
   "metadata": {},
   "source": [
    "## Types of statistics\n",
    "\n",
    "Descriptive statistics(describing the data)\n",
    "\n",
    "Inferential statistics (guessing the larger one with a sample)\n",
    "\n",
    "Quantitive data/ (it's about the numbers related to that data)  \n",
    "\n",
    "Qualitive data/ (it's about the quality/characteristics of data)  "
   ]
  },
  {
   "cell_type": "markdown",
   "metadata": {},
   "source": []
  }
 ],
 "metadata": {
  "language_info": {
   "name": "python"
  }
 },
 "nbformat": 4,
 "nbformat_minor": 2
}
