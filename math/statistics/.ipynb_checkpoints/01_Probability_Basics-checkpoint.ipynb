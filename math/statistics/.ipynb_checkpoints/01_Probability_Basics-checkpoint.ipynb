{
 "cells": [
  {
   "cell_type": "markdown",
   "id": "f61351c4",
   "metadata": {},
   "source": [
    "# Probability Basics\n",
    "Introduction to basic probability concepts, including sample spaces, events, and probability rules."
   ]
  },
  {
   "cell_type": "markdown",
   "id": "b3caaf55-e174-4fec-ab74-801ba2f9b5fc",
   "metadata": {},
   "source": [
    "Okay, let's get started"
   ]
  },
  {
   "cell_type": "markdown",
   "id": "b6ed693d-e97c-46b6-9a5d-54b90d5a09af",
   "metadata": {},
   "source": [
    "## Types of statistics\n",
    "\n",
    "Descriptive statistics(describing the data)\n",
    "\n",
    "Inferential statistics (guessing the larger one with a sample)\n",
    "\n",
    "Quantitive data/ (it's about the numbers related to that data)  \n",
    "\n",
    "Qualitive data/ (it's about the quality/characteristics of data)  "
   ]
  },
  {
   "cell_type": "code",
   "execution_count": null,
   "id": "b6550b89-4a20-4071-b271-ae845b7af18c",
   "metadata": {},
   "outputs": [],
   "source": []
  },
  {
   "cell_type": "code",
   "execution_count": null,
   "id": "c90f3769-f32e-47a8-9362-386556aac76d",
   "metadata": {},
   "outputs": [],
   "source": []
  },
  {
   "cell_type": "code",
   "execution_count": null,
   "id": "3338f41f-f486-4e6b-86db-c51e9d009269",
   "metadata": {},
   "outputs": [],
   "source": []
  }
 ],
 "metadata": {
  "kernelspec": {
   "display_name": "Python 3 (ipykernel)",
   "language": "python",
   "name": "python3"
  },
  "language_info": {
   "codemirror_mode": {
    "name": "ipython",
    "version": 3
   },
   "file_extension": ".py",
   "mimetype": "text/x-python",
   "name": "python",
   "nbconvert_exporter": "python",
   "pygments_lexer": "ipython3",
   "version": "3.10.13"
  }
 },
 "nbformat": 4,
 "nbformat_minor": 5
}
