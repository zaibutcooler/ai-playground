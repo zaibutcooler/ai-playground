{
 "cells": [
  {
   "cell_type": "code",
   "execution_count": 1,
   "id": "674c80ec-c82b-45df-be62-423148f50b01",
   "metadata": {},
   "outputs": [
    {
     "name": "stdout",
     "output_type": "stream",
     "text": [
      "P(2 < x < 10) = 0.5349847627990266\n"
     ]
    }
   ],
   "source": [
    "import numpy as np\n",
    "\n",
    "# Parameters\n",
    "lam = 0.2\n",
    "lower_bound = 2\n",
    "upper_bound = 10\n",
    "\n",
    "# CDF function for exponential distribution\n",
    "def exponential_cdf(x, lam):\n",
    "    return 1 - np.exp(-lam * x)\n",
    "\n",
    "# Calculate P(2 < x < 10)\n",
    "probability = exponential_cdf(upper_bound, lam) - exponential_cdf(lower_bound, lam)\n",
    "print(\"P(2 < x < 10) =\", probability)\n"
   ]
  },
  {
   "cell_type": "code",
   "execution_count": 2,
   "id": "35fafdb5-ec3d-4160-bdd8-f89c3e784239",
   "metadata": {},
   "outputs": [
    {
     "name": "stdout",
     "output_type": "stream",
     "text": [
      "Variance of X: 3.6036\n"
     ]
    }
   ],
   "source": [
    "import numpy as np\n",
    "\n",
    "# Parameters\n",
    "p = 0.22\n",
    "n = 21\n",
    "\n",
    "# Calculate variance\n",
    "variance = n * p * (1 - p)\n",
    "print(\"Variance of X:\", variance)\n"
   ]
  },
  {
   "cell_type": "code",
   "execution_count": 3,
   "id": "a5fcbc2c-33e0-4625-a1b2-3314ffcb9578",
   "metadata": {},
   "outputs": [
    {
     "name": "stdout",
     "output_type": "stream",
     "text": [
      "Probability that x falls in the shaded area: 1.0\n"
     ]
    }
   ],
   "source": [
    "# Calculate the area of the rectangle\n",
    "rectangle_area = (8 - 6) * (1 / 9)\n",
    "\n",
    "# Calculate the area of the shaded region\n",
    "shaded_area = 2 * (1 / 9)\n",
    "\n",
    "# Calculate the probability\n",
    "probability = shaded_area / rectangle_area\n",
    "\n",
    "print(\"Probability that x falls in the shaded area:\", probability)\n"
   ]
  },
  {
   "cell_type": "code",
   "execution_count": 4,
   "id": "f95ea89b-2d7e-4a74-8b5b-23a6d5ea4988",
   "metadata": {},
   "outputs": [
    {
     "name": "stdout",
     "output_type": "stream",
     "text": [
      "Standard deviation of X: 0.5\n"
     ]
    }
   ],
   "source": [
    "import numpy as np\n",
    "\n",
    "# Values of the random variable X\n",
    "x_values = [0, 1]\n",
    "\n",
    "# Probabilities corresponding to each value\n",
    "probabilities = [0.5, 0.5]\n",
    "\n",
    "# Calculate the mean of X\n",
    "mean = np.sum([x * p for x, p in zip(x_values, probabilities)])\n",
    "\n",
    "# Calculate the standard deviation\n",
    "std_dev = np.sqrt(np.sum([(x - mean) ** 2 * p for x, p in zip(x_values, probabilities)]))\n",
    "\n",
    "print(\"Standard deviation of X:\", std_dev)\n"
   ]
  },
  {
   "cell_type": "code",
   "execution_count": 5,
   "id": "deec301e-76ad-49cc-8d33-e6cc9e7582e6",
   "metadata": {},
   "outputs": [
    {
     "name": "stdout",
     "output_type": "stream",
     "text": [
      "Median of the exponential distribution: 3.465735902799726\n"
     ]
    }
   ],
   "source": [
    "import numpy as np\n",
    "\n",
    "# Parameter\n",
    "lam = 0.2\n",
    "\n",
    "# Calculate the median\n",
    "median = np.log(2) / lam\n",
    "\n",
    "print(\"Median of the exponential distribution:\", median)\n"
   ]
  },
  {
   "cell_type": "code",
   "execution_count": 6,
   "id": "2f4182c1-4fd6-4bcd-bf50-410b7ee0c296",
   "metadata": {},
   "outputs": [
    {
     "name": "stdout",
     "output_type": "stream",
     "text": [
      "Expected value of X: 0.5\n"
     ]
    }
   ],
   "source": [
    "# Values of the random variable X\n",
    "x_values = [0, 1]\n",
    "\n",
    "# Probabilities corresponding to each value\n",
    "probabilities = [0.5, 0.5]\n",
    "\n",
    "# Calculate the expected value of X\n",
    "expected_value = sum(x * p for x, p in zip(x_values, probabilities))\n",
    "\n",
    "print(\"Expected value of X:\", expected_value)\n"
   ]
  },
  {
   "cell_type": "code",
   "execution_count": 7,
   "id": "ab5b1ced-a9a2-42ec-9b3c-6b727fa4a740",
   "metadata": {},
   "outputs": [
    {
     "name": "stdout",
     "output_type": "stream",
     "text": [
      "Probability density at x = 7: 0.1\n"
     ]
    }
   ],
   "source": [
    "from scipy.stats import uniform\n",
    "\n",
    "# Define the range of the continuous distribution\n",
    "lower_bound = 0\n",
    "upper_bound = 10\n",
    "\n",
    "# Calculate the PDF at x = 7\n",
    "pdf_at_7 = uniform.pdf(7, loc=lower_bound, scale=upper_bound - lower_bound)\n",
    "\n",
    "print(\"Probability density at x = 7:\", pdf_at_7)\n"
   ]
  },
  {
   "cell_type": "code",
   "execution_count": 8,
   "id": "bceb96e8-ac05-4ddf-ba55-92c6f6e830c1",
   "metadata": {},
   "outputs": [
    {
     "name": "stdout",
     "output_type": "stream",
     "text": [
      "Total area under the PDF curve: 1.0000000000000002\n"
     ]
    }
   ],
   "source": [
    "from scipy.integrate import quad\n",
    "\n",
    "# Define the continuous uniform PDF function over the interval [0, 10]\n",
    "def pdf_function(x):\n",
    "    if 0 <= x <= 10:\n",
    "        return 1 / (10 - 0)\n",
    "    else:\n",
    "        return 0\n",
    "\n",
    "# Calculate the total area under the PDF curve\n",
    "total_area, _ = quad(pdf_function, 0, 10)\n",
    "\n",
    "print(\"Total area under the PDF curve:\", total_area)\n"
   ]
  },
  {
   "cell_type": "code",
   "execution_count": 9,
   "id": "680671f4-b451-42df-b763-1963070c45c6",
   "metadata": {},
   "outputs": [
    {
     "name": "stdout",
     "output_type": "stream",
     "text": [
      "P(x > 6) = 0.30119421191220197\n"
     ]
    }
   ],
   "source": [
    "import numpy as np\n",
    "\n",
    "# Parameters\n",
    "lam = 0.2\n",
    "x = 6\n",
    "\n",
    "# CDF function for exponential distribution\n",
    "def exponential_cdf(x, lam):\n",
    "    return 1 - np.exp(-lam * x)\n",
    "\n",
    "# Calculate P(x > 6)\n",
    "probability = 1 - exponential_cdf(x, lam)\n",
    "print(\"P(x > 6) =\", probability)\n"
   ]
  },
  {
   "cell_type": "code",
   "execution_count": 10,
   "id": "f338f399-0fe8-40bd-9f48-aa533c7422af",
   "metadata": {},
   "outputs": [
    {
     "name": "stdout",
     "output_type": "stream",
     "text": [
      "Expected value of X: 4.62\n"
     ]
    }
   ],
   "source": [
    "# Parameters\n",
    "p = 0.22\n",
    "n = 21\n",
    "\n",
    "# Calculate the expected value\n",
    "expected_value = n * p\n",
    "\n",
    "print(\"Expected value of X:\", expected_value)\n"
   ]
  },
  {
   "cell_type": "code",
   "execution_count": 11,
   "id": "6e08864d-1b51-4c6a-9076-935c08889229",
   "metadata": {},
   "outputs": [
    {
     "name": "stdout",
     "output_type": "stream",
     "text": [
      "70th percentile of the exponential distribution: 6.0198640216296795\n"
     ]
    }
   ],
   "source": [
    "import numpy as np\n",
    "\n",
    "# Parameters\n",
    "lam = 0.2\n",
    "p = 0.7\n",
    "\n",
    "# Inverse CDF function for exponential distribution\n",
    "def exponential_inv_cdf(p, lam):\n",
    "    return -np.log(1 - p) / lam\n",
    "\n",
    "# Calculate the 70th percentile\n",
    "percentile_70 = exponential_inv_cdf(p, lam)\n",
    "print(\"70th percentile of the exponential distribution:\", percentile_70)\n"
   ]
  },
  {
   "cell_type": "code",
   "execution_count": 12,
   "id": "a3e68074-1149-4ae2-8a5b-06bb780d442e",
   "metadata": {},
   "outputs": [
    {
     "ename": "SyntaxError",
     "evalue": "invalid decimal literal (9989378.py, line 11)",
     "output_type": "error",
     "traceback": [
      "\u001b[1;36m  Cell \u001b[1;32mIn[12], line 11\u001b[1;36m\u001b[0m\n\u001b[1;33m    Question 19Answer\u001b[0m\n\u001b[1;37m              ^\u001b[0m\n\u001b[1;31mSyntaxError\u001b[0m\u001b[1;31m:\u001b[0m invalid decimal literal\n"
     ]
    }
   ],
   "source": [
    "Question 19\n",
    "Not yet answered\n",
    "Marked out of 1.00\n",
    "Flag question\n",
    "Question text\n",
    "A call center technical specialist spends varying amount of time in each call to resolve the concern. The time spent in each call is modeled using the following distribution: X~ Exp (0.2).\n",
    "\n",
    "What is the mean?\n",
    "\n",
    "\n",
    "Question 19Answer\n",
    "\n",
    "a.\n",
    "1\n",
    "\n",
    "\n",
    "b.\n",
    "5\n",
    "\n",
    "\n",
    "c.\n",
    "2"
   ]
  },
  {
   "cell_type": "code",
   "execution_count": 14,
   "id": "846cd7a9-5e20-4048-b713-caa7ae02e792",
   "metadata": {},
   "outputs": [
    {
     "name": "stdout",
     "output_type": "stream",
     "text": [
      "Mean of the exponential distribution: 5.0\n"
     ]
    }
   ],
   "source": [
    "# Parameter\n",
    "lam = 0.2\n",
    "\n",
    "# Calculate the mean\n",
    "mean = 1 / lam\n",
    "\n",
    "print(\"Mean of the exponential distribution:\", mean)\n"
   ]
  },
  {
   "cell_type": "code",
   "execution_count": 15,
   "id": "29594ce1-f7c9-4a42-a7a3-09ec3784e670",
   "metadata": {},
   "outputs": [
    {
     "name": "stdout",
     "output_type": "stream",
     "text": [
      "Standard deviation of the exponential distribution: 5.0\n"
     ]
    }
   ],
   "source": [
    "# Parameter\n",
    "lam = 0.2\n",
    "\n",
    "# Calculate the standard deviation\n",
    "std_dev = 1 / lam\n",
    "\n",
    "print(\"Standard deviation of the exponential distribution:\", std_dev)\n"
   ]
  },
  {
   "cell_type": "code",
   "execution_count": 16,
   "id": "26a6a3f7-81d7-40df-a05f-01c8469a621a",
   "metadata": {},
   "outputs": [
    {
     "name": "stdout",
     "output_type": "stream",
     "text": [
      "Probability that x falls in the shaded area: 1.0\n"
     ]
    }
   ],
   "source": [
    "# Width of the shaded region\n",
    "width_shaded = 8 - 6\n",
    "\n",
    "# Height of the shaded region (line on top)\n",
    "height_shaded = 1 / 9\n",
    "\n",
    "# Calculate the area of the shaded region\n",
    "area_shaded = width_shaded * height_shaded\n",
    "\n",
    "# Calculate the total area (area of the rectangle)\n",
    "area_total = width_shaded * height_shaded\n",
    "\n",
    "# Calculate the probability\n",
    "probability = area_shaded / area_total\n",
    "\n",
    "print(\"Probability that x falls in the shaded area:\", probability)\n"
   ]
  },
  {
   "cell_type": "code",
   "execution_count": 17,
   "id": "29c9024f-fc90-4d42-b042-26369e4d8cf2",
   "metadata": {},
   "outputs": [
    {
     "name": "stdout",
     "output_type": "stream",
     "text": [
      "Probability that x > 15: 0.0\n"
     ]
    }
   ],
   "source": [
    "from scipy.integrate import quad\n",
    "\n",
    "# Define the continuous probability density function (PDF)\n",
    "def pdf_function(x):\n",
    "    # For this example, let's assume a uniform distribution over the interval [0, 15]\n",
    "    if 0 <= x <= 15:\n",
    "        return 1 / 15  # PDF is constant over the interval [0, 15]\n",
    "    else:\n",
    "        return 0  # PDF is zero outside the interval [0, 15]\n",
    "\n",
    "# Calculate the probability of x > 15 by integrating the PDF over the range x > 15\n",
    "probability, _ = quad(pdf_function, 15, float('inf'))\n",
    "\n",
    "print(\"Probability that x > 15:\", probability)\n"
   ]
  },
  {
   "cell_type": "code",
   "execution_count": 18,
   "id": "bdf0e4af-6bcd-45ab-9300-b12e0a2e615a",
   "metadata": {},
   "outputs": [
    {
     "name": "stdout",
     "output_type": "stream",
     "text": [
      "Probability that x falls in the shaded area: 1.0\n"
     ]
    }
   ],
   "source": [
    "# Width of the shaded region\n",
    "width_shaded = 8 - 6\n",
    "\n",
    "# Height of the shaded region\n",
    "height_shaded = 1 / 9\n",
    "\n",
    "# Calculate the area of the shaded region\n",
    "area_shaded = width_shaded * height_shaded\n",
    "\n",
    "# Calculate the total area (area of the rectangle)\n",
    "area_total = width_shaded * height_shaded\n",
    "\n",
    "# Calculate the probability\n",
    "probability = area_shaded / area_total\n",
    "\n",
    "print(\"Probability that x falls in the shaded area:\", probability)\n"
   ]
  },
  {
   "cell_type": "code",
   "execution_count": 19,
   "id": "812d1a62-0cc1-4455-92be-b6710d9043fa",
   "metadata": {},
   "outputs": [
    {
     "name": "stdout",
     "output_type": "stream",
     "text": [
      "Probability that x falls in the shaded area: 1.0\n"
     ]
    }
   ],
   "source": [
    "# Width of the shaded region\n",
    "width_shaded = 5 - 0\n",
    "\n",
    "# Height of the shaded region\n",
    "height_shaded = 1 / 8\n",
    "\n",
    "# Calculate the area of the shaded region\n",
    "area_shaded = width_shaded * height_shaded\n",
    "\n",
    "# Calculate the total area (area of the rectangle)\n",
    "area_total = width_shaded * height_shaded\n",
    "\n",
    "# Calculate the probability\n",
    "probability = area_shaded / area_total\n",
    "\n",
    "print(\"Probability that x falls in the shaded area:\", probability)\n"
   ]
  },
  {
   "cell_type": "code",
   "execution_count": 20,
   "id": "2d8b95e0-98fd-42b0-af52-aa5499308b9b",
   "metadata": {},
   "outputs": [
    {
     "name": "stdout",
     "output_type": "stream",
     "text": [
      "Probability that x falls between 6 and 8: 0.2222222222222222\n"
     ]
    }
   ],
   "source": [
    "# Width of the shaded region\n",
    "width_shaded = 8 - 6\n",
    "\n",
    "# Height of the shaded region\n",
    "height_shaded = 1 / 9\n",
    "\n",
    "# Calculate the area of the shaded region\n",
    "area_shaded = width_shaded * height_shaded\n",
    "\n",
    "print(\"Probability that x falls between 6 and 8:\", area_shaded)\n"
   ]
  },
  {
   "cell_type": "code",
   "execution_count": 21,
   "id": "0a39bbbd-0140-480b-a091-c93dbed5a6f9",
   "metadata": {},
   "outputs": [
    {
     "name": "stdout",
     "output_type": "stream",
     "text": [
      "Probability that x falls between 0 and 5: 0.625\n"
     ]
    }
   ],
   "source": [
    "# Width of the shaded region\n",
    "width_shaded = 5 - 0\n",
    "\n",
    "# Height of the shaded region\n",
    "height_shaded = 1 / 8\n",
    "\n",
    "# Calculate the area of the shaded region\n",
    "area_shaded = width_shaded * height_shaded\n",
    "\n",
    "print(\"Probability that x falls between 0 and 5:\", area_shaded)\n"
   ]
  },
  {
   "cell_type": "code",
   "execution_count": 22,
   "id": "458c178e-eb86-4a57-a8f2-39c4f317fc21",
   "metadata": {},
   "outputs": [
    {
     "name": "stdout",
     "output_type": "stream",
     "text": [
      "Absolute maximum value: 19\n"
     ]
    }
   ],
   "source": [
    "from sympy import symbols, solve\n",
    "\n",
    "# Define the variable and function\n",
    "x = symbols('x')\n",
    "f = x**2 + 3\n",
    "\n",
    "# Evaluate f(x) at the endpoints\n",
    "f_minus_1 = f.subs(x, -1)\n",
    "f_4 = f.subs(x, 4)\n",
    "\n",
    "# Find the critical point\n",
    "critical_points = solve(f.diff(x), x)\n",
    "\n",
    "# Evaluate f(x) at the critical point(s)\n",
    "f_critical = [f.subs(x, cp) for cp in critical_points]\n",
    "\n",
    "# Determine the maximum value\n",
    "absolute_maximum = max(f_minus_1, f_4, *f_critical)\n",
    "\n",
    "print(\"Absolute maximum value:\", absolute_maximum)\n"
   ]
  },
  {
   "cell_type": "code",
   "execution_count": 23,
   "id": "5411ca8f-f163-4e1a-85e5-be96fc74e486",
   "metadata": {},
   "outputs": [
    {
     "name": "stdout",
     "output_type": "stream",
     "text": [
      "Gradient of the tangent at x = 1: 0\n"
     ]
    }
   ],
   "source": [
    "from sympy import symbols, diff\n",
    "\n",
    "# Define the variable and the function\n",
    "x = symbols('x')\n",
    "y = (x - 1/x)**4\n",
    "\n",
    "# Compute the derivative of y with respect to x\n",
    "dy_dx = diff(y, x)\n",
    "\n",
    "# Evaluate the derivative at x = 1\n",
    "gradient_at_1 = dy_dx.subs(x, 1)\n",
    "\n",
    "print(\"Gradient of the tangent at x = 1:\", gradient_at_1)\n"
   ]
  },
  {
   "cell_type": "code",
   "execution_count": 24,
   "id": "2ce4f0f2-62cd-41b2-b7d1-7a0580a7abe7",
   "metadata": {},
   "outputs": [
    {
     "name": "stdout",
     "output_type": "stream",
     "text": [
      "Gradient of the tangent at x = pi/3: sqrt(3)/2\n"
     ]
    }
   ],
   "source": [
    "from sympy import symbols, sin, cos, pi\n",
    "\n",
    "# Define the variable and the function\n",
    "x = symbols('x')\n",
    "y = sin(x)**2\n",
    "\n",
    "# Compute the derivative of y with respect to x\n",
    "dy_dx = y.diff(x)\n",
    "\n",
    "# Evaluate the derivative at x = pi/3\n",
    "gradient_at_pi_over_3 = dy_dx.subs(x, pi/3)\n",
    "\n",
    "print(\"Gradient of the tangent at x = pi/3:\", gradient_at_pi_over_3)\n"
   ]
  },
  {
   "cell_type": "code",
   "execution_count": 25,
   "id": "48ad91e7-5fcf-4a4b-9d91-0f6634a4de0f",
   "metadata": {},
   "outputs": [
    {
     "name": "stdout",
     "output_type": "stream",
     "text": [
      "Gradient of the tangent at x = 1: -15\n"
     ]
    }
   ],
   "source": [
    "from sympy import symbols, diff\n",
    "\n",
    "# Define the variable and the function\n",
    "x = symbols('x')\n",
    "y = (2 - 3*x)**5\n",
    "\n",
    "# Compute the derivative of y with respect to x\n",
    "dy_dx = diff(y, x)\n",
    "\n",
    "# Evaluate the derivative at x = 1\n",
    "gradient_at_1 = dy_dx.subs(x, 1)\n",
    "\n",
    "print(\"Gradient of the tangent at x = 1:\", gradient_at_1)\n"
   ]
  },
  {
   "cell_type": "code",
   "execution_count": 26,
   "id": "2aa85899-bf66-4f60-9c84-188d0bff14f6",
   "metadata": {},
   "outputs": [
    {
     "name": "stdout",
     "output_type": "stream",
     "text": [
      "The derivative of y = cot^(-1)(5x) with respect to x is: -5*cot(5*x)**2 - 5\n"
     ]
    }
   ],
   "source": [
    "from sympy import symbols, cot, diff\n",
    "\n",
    "# Define the variable and function\n",
    "x = symbols('x')\n",
    "y = cot(5*x)\n",
    "\n",
    "# Compute the derivative\n",
    "derivative = diff(y, x)\n",
    "\n",
    "# Print the result\n",
    "print(\"The derivative of y = cot^(-1)(5x) with respect to x is:\", derivative)\n"
   ]
  },
  {
   "cell_type": "code",
   "execution_count": 27,
   "id": "bc511a30-3290-4460-be62-edbc15c7da4b",
   "metadata": {},
   "outputs": [
    {
     "name": "stdout",
     "output_type": "stream",
     "text": [
      "The derivative of y = 5/(25*x**2 + 1)\n"
     ]
    }
   ],
   "source": [
    "from sympy import symbols, cot, diff, atan\n",
    "\n",
    "# Define the variable and the function\n",
    "x = symbols('x')\n",
    "y = atan(5*x)\n",
    "\n",
    "# Find the derivative\n",
    "derivative_y = diff(y, x)\n",
    "\n",
    "print(\"The derivative of y =\", derivative_y)\n"
   ]
  },
  {
   "cell_type": "code",
   "execution_count": 28,
   "id": "d461dc24-706d-4594-80b3-9e913d4708ab",
   "metadata": {},
   "outputs": [
    {
     "name": "stdout",
     "output_type": "stream",
     "text": [
      "The derivative of g^-1(x) = 1/sqrt(1 - x**2)\n"
     ]
    }
   ],
   "source": [
    "from sympy import symbols, asin, diff, sqrt\n",
    "\n",
    "# Define the variable and the function\n",
    "x = symbols('x')\n",
    "g_inv = asin(x)\n",
    "\n",
    "# Find the derivative\n",
    "derivative_g_inv = diff(g_inv, x)\n",
    "\n",
    "# Simplify the derivative\n",
    "derivative_g_inv_simplified = derivative_g_inv.simplify()\n",
    "\n",
    "print(\"The derivative of g^-1(x) =\", derivative_g_inv_simplified)\n"
   ]
  },
  {
   "cell_type": "code",
   "execution_count": 29,
   "id": "7a9c6c3c-2e15-4780-ad84-5b0a2510ab99",
   "metadata": {},
   "outputs": [
    {
     "name": "stdout",
     "output_type": "stream",
     "text": [
      "The derivative of y = -3/sqrt(1 - 9*x**2)\n"
     ]
    }
   ],
   "source": [
    "from sympy import symbols, acos, diff, sqrt\n",
    "\n",
    "# Define the variable and the function\n",
    "x = symbols('x')\n",
    "y = acos(3*x)\n",
    "\n",
    "# Find the derivative\n",
    "derivative_y = diff(y, x)\n",
    "\n",
    "print(\"The derivative of y =\", derivative_y)\n"
   ]
  },
  {
   "cell_type": "code",
   "execution_count": 30,
   "id": "4d7b845e-3e98-45cc-bc03-82f574f8852c",
   "metadata": {},
   "outputs": [
    {
     "name": "stdout",
     "output_type": "stream",
     "text": [
      "The derivative of y with respect to x is: (5*cot(5*x)**2 + 5)/cot(5*x)**2\n"
     ]
    }
   ],
   "source": [
    "from sympy import symbols, cot, diff\n",
    "\n",
    "# Define the variable and the function\n",
    "x = symbols('x')\n",
    "y = cot(5*x)**-1\n",
    "\n",
    "# Find the derivative\n",
    "derivative_y = diff(y, x)\n",
    "\n",
    "print(\"The derivative of y with respect to x is:\", derivative_y)\n"
   ]
  },
  {
   "cell_type": "code",
   "execution_count": 2,
   "id": "3ae5925a-7991-4409-b144-846d23457d48",
   "metadata": {},
   "outputs": [
    {
     "name": "stdout",
     "output_type": "stream",
     "text": [
      "The solution to the recurrence relation is:\n",
      "8*(3/2)**n - 7\n"
     ]
    }
   ],
   "source": [
    "import sympy as sp\n",
    "\n",
    "# Define the symbols\n",
    "r = sp.symbols('r')\n",
    "\n",
    "# Define the characteristic equation\n",
    "eq = 2 * r**2 - 5 * r + 3\n",
    "\n",
    "# Solve the characteristic equation for roots\n",
    "roots = sp.solve(eq, r)\n",
    "\n",
    "# Define initial conditions\n",
    "a0 = 1\n",
    "a1 = 5\n",
    "\n",
    "# Define the recurrence relation\n",
    "n = sp.symbols('n')\n",
    "an = sp.Function('a')(n)\n",
    "\n",
    "# Define the general solution\n",
    "general_solution = sum(c * r**n for c, r in zip(sp.symbols('c1:4'), roots))\n",
    "\n",
    "# Substitute initial conditions to find constants c1, c2, and c3\n",
    "constants = sp.solve((general_solution.subs(n, 0) - a0, general_solution.subs(n, 1) - a1))\n",
    "\n",
    "# Substitute the constants into the general solution\n",
    "solution = general_solution.subs(constants)\n",
    "\n",
    "# Print the solution\n",
    "print(\"The solution to the recurrence relation is:\")\n",
    "print(solution)\n"
   ]
  },
  {
   "cell_type": "code",
   "execution_count": 3,
   "id": "b9f3a83a-17ef-4477-ac3f-eeb67fdeeb85",
   "metadata": {},
   "outputs": [
    {
     "name": "stdout",
     "output_type": "stream",
     "text": [
      "R^2 =\n",
      "[[2 0 1]\n",
      " [3 1 2]\n",
      " [1 0 1]]\n"
     ]
    }
   ],
   "source": [
    "import numpy as np\n",
    "\n",
    "# Define the matrix R\n",
    "R = np.array([[1, 0, 1],\n",
    "              [1, 1, 1],\n",
    "              [1, 0, 0]])\n",
    "\n",
    "# Calculate R^2 using matrix multiplication\n",
    "R_squared = np.dot(R, R)\n",
    "\n",
    "# Print the result\n",
    "print(\"R^2 =\")\n",
    "print(R_squared)\n"
   ]
  },
  {
   "cell_type": "code",
   "execution_count": 4,
   "id": "095a8b67-a0c6-428f-bab1-87ac2326affb",
   "metadata": {},
   "outputs": [
    {
     "name": "stdout",
     "output_type": "stream",
     "text": [
      "Simplified expression: P & ~Q\n"
     ]
    }
   ],
   "source": [
    "import sympy as sp\n",
    "\n",
    "# Define symbolic variables\n",
    "P, Q = sp.symbols('P Q')\n",
    "\n",
    "# Define the logical expressions\n",
    "expression = sp.And(Q >> P, sp.Not(P >> Q))\n",
    "\n",
    "# Simplify the expression\n",
    "simplified_expression = sp.simplify(expression)\n",
    "\n",
    "# Print the simplified expression\n",
    "print(\"Simplified expression:\", simplified_expression)\n"
   ]
  },
  {
   "cell_type": "code",
   "execution_count": 5,
   "id": "d7288338-4331-4d65-9af8-80922f439ba6",
   "metadata": {},
   "outputs": [
    {
     "name": "stdout",
     "output_type": "stream",
     "text": [
      "a_1 = 1.0\n",
      "a_2 = 1.0\n",
      "a_3 = 1.0\n"
     ]
    }
   ],
   "source": [
    "def solve_recurrence_relation(n):\n",
    "    a = [0] * (n + 1)\n",
    "    a[0] = 1  # Initial condition a0 = 1\n",
    "\n",
    "    for i in range(1, n + 1):\n",
    "        a[i] = (6 * a[i - 1] - 4) / 2\n",
    "\n",
    "    return a[n]\n",
    "\n",
    "# Test the function for some values of n\n",
    "print(\"a_1 =\", solve_recurrence_relation(1))\n",
    "print(\"a_2 =\", solve_recurrence_relation(2))\n",
    "print(\"a_3 =\", solve_recurrence_relation(3))\n"
   ]
  },
  {
   "cell_type": "code",
   "execution_count": 6,
   "id": "607b4532-ac39-4711-84ce-6d3240e600d2",
   "metadata": {},
   "outputs": [
    {
     "name": "stdout",
     "output_type": "stream",
     "text": [
      "The value of k is: 3.0\n"
     ]
    }
   ],
   "source": [
    "# Calculate the value of k\n",
    "k = (4374 / 2) ** (1/7)\n",
    "\n",
    "# Print the value of k\n",
    "print(\"The value of k is:\", k)\n"
   ]
  },
  {
   "cell_type": "code",
   "execution_count": 7,
   "id": "9e5c7ed5-ec3a-4fe4-b2e2-52f64884bb09",
   "metadata": {},
   "outputs": [
    {
     "name": "stdout",
     "output_type": "stream",
     "text": [
      "Option a: True\n",
      "Option b: True\n",
      "Option c: True\n",
      "Option d: False\n"
     ]
    }
   ],
   "source": [
    "def F(x):\n",
    "    return x + 2 >= 6\n",
    "\n",
    "# Test each option\n",
    "options = {\n",
    "    \"a\": F(4),\n",
    "    \"b\": F(7),\n",
    "    \"c\": F(6),\n",
    "    \"d\": F(2)\n",
    "}\n",
    "\n",
    "# Print the results\n",
    "for option, value in options.items():\n",
    "    print(f\"Option {option}: {value}\")\n"
   ]
  },
  {
   "cell_type": "code",
   "execution_count": 8,
   "id": "0173e32f-cdb7-4d5c-9d31-bc926d7acc5f",
   "metadata": {},
   "outputs": [
    {
     "name": "stdout",
     "output_type": "stream",
     "text": [
      "For n = 1:\n",
      "Divisible by 11: False\n",
      "Divisible by 12: True\n",
      "Divisible by 13: False\n",
      "Prime number: True\n",
      "\n",
      "For n = 2:\n",
      "Divisible by 11: False\n",
      "Divisible by 12: True\n",
      "Divisible by 13: False\n",
      "Prime number: True\n",
      "\n",
      "For n = 3:\n",
      "Divisible by 11: False\n",
      "Divisible by 12: True\n",
      "Divisible by 13: False\n",
      "Prime number: True\n",
      "\n",
      "For n = 4:\n",
      "Divisible by 11: False\n",
      "Divisible by 12: True\n",
      "Divisible by 13: False\n",
      "Prime number: True\n",
      "\n",
      "For n = 5:\n",
      "Divisible by 11: False\n",
      "Divisible by 12: True\n",
      "Divisible by 13: False\n",
      "Prime number: True\n",
      "\n",
      "For n = 6:\n",
      "Divisible by 11: False\n",
      "Divisible by 12: True\n",
      "Divisible by 13: False\n",
      "Prime number: False\n",
      "\n",
      "For n = 7:\n",
      "Divisible by 11: False\n",
      "Divisible by 12: True\n",
      "Divisible by 13: False\n",
      "Prime number: False\n",
      "\n",
      "For n = 8:\n",
      "Divisible by 11: False\n",
      "Divisible by 12: True\n",
      "Divisible by 13: False\n",
      "Prime number: True\n",
      "\n",
      "For n = 9:\n",
      "Divisible by 11: False\n",
      "Divisible by 12: True\n",
      "Divisible by 13: False\n",
      "Prime number: False\n",
      "\n",
      "For n = 10:\n",
      "Divisible by 11: True\n",
      "Divisible by 12: True\n",
      "Divisible by 13: False\n",
      "Prime number: False\n",
      "\n"
     ]
    }
   ],
   "source": [
    "def check_divisibility(n, divisor):\n",
    "    return (13 ** n - 1) % divisor == 0\n",
    "\n",
    "# Test divisibility for different values of n\n",
    "for n in range(1, 11):\n",
    "    print(f\"For n = {n}:\")\n",
    "    print(\"Divisible by 11:\", check_divisibility(n, 11))\n",
    "    print(\"Divisible by 12:\", check_divisibility(n, 12))\n",
    "    print(\"Divisible by 13:\", check_divisibility(n, 13))\n",
    "    print(\"Prime number:\", all(check_divisibility(n, i) for i in range(2, n)))\n",
    "    print()\n"
   ]
  },
  {
   "cell_type": "code",
   "execution_count": 9,
   "id": "ebe2a2f9-dacc-4d9b-bac1-5787863d8ecb",
   "metadata": {},
   "outputs": [
    {
     "name": "stdout",
     "output_type": "stream",
     "text": [
      "The adjacency matrix is:\n",
      "[[1 1 1 1 1]\n",
      " [0 1 0 1 1]\n",
      " [0 0 1 0 1]\n",
      " [0 0 0 1 0]\n",
      " [0 0 0 0 1]]\n"
     ]
    }
   ],
   "source": [
    "import numpy as np\n",
    "\n",
    "# Define the set A\n",
    "A = [5, 10, 15, 20, 30]\n",
    "\n",
    "# Initialize the adjacency matrix with zeros\n",
    "adjacency_matrix = np.zeros((len(A), len(A)), dtype=int)\n",
    "\n",
    "# Populate the adjacency matrix based on the relation\n",
    "for i in range(len(A)):\n",
    "    for j in range(len(A)):\n",
    "        if A[j] % A[i] == 0:  # Check if A[i] divides A[j]\n",
    "            adjacency_matrix[i][j] = 1\n",
    "\n",
    "# Print the adjacency matrix\n",
    "print(\"The adjacency matrix is:\")\n",
    "print(adjacency_matrix)\n"
   ]
  },
  {
   "cell_type": "code",
   "execution_count": null,
   "id": "dc4290e8-c698-4b05-82b0-9ce5417bcdec",
   "metadata": {},
   "outputs": [],
   "source": []
  },
  {
   "cell_type": "code",
   "execution_count": 10,
   "id": "7f9e1743-ab52-45f7-8b45-53cd651b46c6",
   "metadata": {},
   "outputs": [
    {
     "ename": "TypeError",
     "evalue": "'_AxesStack' object is not callable",
     "output_type": "error",
     "traceback": [
      "\u001b[1;31m---------------------------------------------------------------------------\u001b[0m",
      "\u001b[1;31mTypeError\u001b[0m                                 Traceback (most recent call last)",
      "Cell \u001b[1;32mIn[10], line 20\u001b[0m\n\u001b[0;32m     18\u001b[0m \u001b[38;5;66;03m# Draw the graph\u001b[39;00m\n\u001b[0;32m     19\u001b[0m pos \u001b[38;5;241m=\u001b[39m nx\u001b[38;5;241m.\u001b[39mspring_layout(G)\n\u001b[1;32m---> 20\u001b[0m \u001b[43mnx\u001b[49m\u001b[38;5;241;43m.\u001b[39;49m\u001b[43mdraw\u001b[49m\u001b[43m(\u001b[49m\u001b[43mG\u001b[49m\u001b[43m,\u001b[49m\u001b[43m \u001b[49m\u001b[43mpos\u001b[49m\u001b[43m,\u001b[49m\u001b[43m \u001b[49m\u001b[43mwith_labels\u001b[49m\u001b[38;5;241;43m=\u001b[39;49m\u001b[38;5;28;43;01mTrue\u001b[39;49;00m\u001b[43m,\u001b[49m\u001b[43m \u001b[49m\u001b[43mnode_size\u001b[49m\u001b[38;5;241;43m=\u001b[39;49m\u001b[38;5;241;43m2000\u001b[39;49m\u001b[43m,\u001b[49m\u001b[43m \u001b[49m\u001b[43mnode_color\u001b[49m\u001b[38;5;241;43m=\u001b[39;49m\u001b[38;5;124;43m'\u001b[39;49m\u001b[38;5;124;43mskyblue\u001b[39;49m\u001b[38;5;124;43m'\u001b[39;49m\u001b[43m,\u001b[49m\u001b[43m \u001b[49m\u001b[43mfont_size\u001b[49m\u001b[38;5;241;43m=\u001b[39;49m\u001b[38;5;241;43m20\u001b[39;49m\u001b[43m,\u001b[49m\u001b[43m \u001b[49m\u001b[43mfont_weight\u001b[49m\u001b[38;5;241;43m=\u001b[39;49m\u001b[38;5;124;43m'\u001b[39;49m\u001b[38;5;124;43mbold\u001b[39;49m\u001b[38;5;124;43m'\u001b[39;49m\u001b[43m,\u001b[49m\u001b[43m \u001b[49m\u001b[43marrowsize\u001b[49m\u001b[38;5;241;43m=\u001b[39;49m\u001b[38;5;241;43m20\u001b[39;49m\u001b[43m)\u001b[49m\n\u001b[0;32m     22\u001b[0m \u001b[38;5;66;03m# Show the Hasse diagram\u001b[39;00m\n\u001b[0;32m     23\u001b[0m plt\u001b[38;5;241m.\u001b[39mtitle(\u001b[38;5;124m'\u001b[39m\u001b[38;5;124mHasse Diagram of the Partial Order Set\u001b[39m\u001b[38;5;124m'\u001b[39m)\n",
      "File \u001b[1;32m~\\.conda\\envs\\ai_env\\lib\\site-packages\\networkx\\drawing\\nx_pylab.py:113\u001b[0m, in \u001b[0;36mdraw\u001b[1;34m(G, pos, ax, **kwds)\u001b[0m\n\u001b[0;32m    111\u001b[0m cf\u001b[38;5;241m.\u001b[39mset_facecolor(\u001b[38;5;124m\"\u001b[39m\u001b[38;5;124mw\u001b[39m\u001b[38;5;124m\"\u001b[39m)\n\u001b[0;32m    112\u001b[0m \u001b[38;5;28;01mif\u001b[39;00m ax \u001b[38;5;129;01mis\u001b[39;00m \u001b[38;5;28;01mNone\u001b[39;00m:\n\u001b[1;32m--> 113\u001b[0m     \u001b[38;5;28;01mif\u001b[39;00m \u001b[43mcf\u001b[49m\u001b[38;5;241;43m.\u001b[39;49m\u001b[43m_axstack\u001b[49m\u001b[43m(\u001b[49m\u001b[43m)\u001b[49m \u001b[38;5;129;01mis\u001b[39;00m \u001b[38;5;28;01mNone\u001b[39;00m:\n\u001b[0;32m    114\u001b[0m         ax \u001b[38;5;241m=\u001b[39m cf\u001b[38;5;241m.\u001b[39madd_axes((\u001b[38;5;241m0\u001b[39m, \u001b[38;5;241m0\u001b[39m, \u001b[38;5;241m1\u001b[39m, \u001b[38;5;241m1\u001b[39m))\n\u001b[0;32m    115\u001b[0m     \u001b[38;5;28;01melse\u001b[39;00m:\n",
      "\u001b[1;31mTypeError\u001b[0m: '_AxesStack' object is not callable"
     ]
    },
    {
     "data": {
      "text/plain": [
       "<Figure size 640x480 with 0 Axes>"
      ]
     },
     "metadata": {},
     "output_type": "display_data"
    }
   ],
   "source": [
    "import networkx as nx\n",
    "import matplotlib.pyplot as plt\n",
    "\n",
    "# Create a directed graph\n",
    "G = nx.DiGraph()\n",
    "\n",
    "# Add nodes\n",
    "nodes = ['a', 'b', 'c', 'd']\n",
    "G.add_nodes_from(nodes)\n",
    "\n",
    "# Add edges\n",
    "edges = [('a', 'a'), ('a', 'b'), ('a', 'c'), ('a', 'd'),\n",
    "         ('b', 'b'), ('b', 'd'),\n",
    "         ('c', 'c'),\n",
    "         ('d', 'd')]\n",
    "G.add_edges_from(edges)\n",
    "\n",
    "# Draw the graph\n",
    "pos = nx.spring_layout(G)\n",
    "nx.draw(G, pos, with_labels=True, node_size=2000, node_color='skyblue', font_size=20, font_weight='bold', arrowsize=20)\n",
    "\n",
    "# Show the Hasse diagram\n",
    "plt.title('Hasse Diagram of the Partial Order Set')\n",
    "plt.show()\n"
   ]
  },
  {
   "cell_type": "code",
   "execution_count": null,
   "id": "f41d0806-a023-4065-85d0-502dda8379f7",
   "metadata": {},
   "outputs": [],
   "source": []
  }
 ],
 "metadata": {
  "kernelspec": {
   "display_name": "Python 3 (ipykernel)",
   "language": "python",
   "name": "python3"
  },
  "language_info": {
   "codemirror_mode": {
    "name": "ipython",
    "version": 3
   },
   "file_extension": ".py",
   "mimetype": "text/x-python",
   "name": "python",
   "nbconvert_exporter": "python",
   "pygments_lexer": "ipython3",
   "version": "3.10.13"
  }
 },
 "nbformat": 4,
 "nbformat_minor": 5
}
