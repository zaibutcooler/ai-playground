{
 "cells": [
  {
   "cell_type": "markdown",
   "id": "3d79a823-a8ed-48a4-b053-f05ef1c8c6a6",
   "metadata": {},
   "source": [
    "#### Bayes's Theorem"
   ]
  },
  {
   "cell_type": "code",
   "execution_count": null,
   "id": "a354a986-1797-49e7-81c8-ffde4c980ecc",
   "metadata": {},
   "outputs": [],
   "source": []
  }
 ],
 "metadata": {
  "kernelspec": {
   "display_name": "Python 3 (ipykernel)",
   "language": "python",
   "name": "python3"
  },
  "language_info": {
   "codemirror_mode": {
    "name": "ipython",
    "version": 3
   },
   "file_extension": ".py",
   "mimetype": "text/x-python",
   "name": "python",
   "nbconvert_exporter": "python",
   "pygments_lexer": "ipython3",
   "version": "3.10.13"
  }
 },
 "nbformat": 4,
 "nbformat_minor": 5
}
