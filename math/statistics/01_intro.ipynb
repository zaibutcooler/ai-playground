{
 "cells": [
  {
   "cell_type": "markdown",
   "metadata": {},
   "source": [
    "## Types of statistics\n",
    "\n",
    "Descriptive statistics(describing the data)\n",
    "\n",
    "Inferential statistics (guessing the larger one with a sample)\n"
   ]
  },
  {
   "cell_type": "markdown",
   "metadata": {},
   "source": [
    "## Terminologies"
   ]
  },
  {
   "cell_type": "markdown",
   "metadata": {},
   "source": [
    "Quantitive data/ (it's about the numbers related to that data)  \n",
    "\n",
    "Qualitive data/categorical (it's about the quality/characteristics of data)  "
   ]
  },
  {
   "cell_type": "markdown",
   "metadata": {},
   "source": [
    "Proportion -> Fraction or percentage of a whole\n",
    "\n",
    "Range -> The difference between the biggest and smallest of the group\n",
    "\n",
    "Correlation -> Two sets of numbers how strong the relation is\n",
    "\n",
    "Regression -> How one variable influences the other variables\n",
    "\n",
    "Interquartile Range -> The medium(average) of the biggest and the smallest of the group"
   ]
  },
  {
   "cell_type": "markdown",
   "metadata": {},
   "source": [
    "#### Data Spreadness\n",
    "\n",
    "Standard deviation -> how spread out the numbers from mean\n",
    "\n",
    "Variance -> Similar to standard deviation, but it's the average of the squared differences from the mean."
   ]
  },
  {
   "cell_type": "markdown",
   "metadata": {},
   "source": [
    "#### Nominal scale Data (Qual/categorical)\n",
    "\n",
    "Labeled, not meaningful order(could be random) ,can't measure the difference, no true zero starting point\n",
    "\n",
    "#### Ordinal scale Data (Ranking/Placement)\n",
    "\n",
    "Labeled, meaningful order(couldn't be random) ,can't measure the difference, no true zero starting point\n",
    "\n",
    "#### Interval scale Data \n",
    "\n",
    "Labeled, meaningful order(couldn't be random) ,can measure the difference, no true zero starting point\n",
    "\n",
    "#### Ratio scale Data\n",
    "\n",
    "Labeled, meaningful order(couldn't be random) ,can measure the difference, have a true zero starting point"
   ]
  },
  {
   "cell_type": "markdown",
   "metadata": {},
   "source": [
    "### Sample vs Population\n",
    "\n",
    "Sample (Just a few) -> Statistic\n",
    "\n",
    "Population (Everything) -> Parameter"
   ]
  },
  {
   "cell_type": "markdown",
   "metadata": {},
   "source": [
    "### Continuous Data (Measured)\n",
    "It can take on any vales in interval (Can be anything between 1 to 100 let's say 3.21, 45.21, 66.75)\n",
    "\n",
    "eg:temperature\n",
    "\n",
    "### Discreate Data (Counted)\n",
    "It can only have a specific value (Can only be let's say whole number)\n",
    "\n",
    "eg:rolling a die\n"
   ]
  },
  {
   "cell_type": "markdown",
   "metadata": {},
   "source": []
  },
  {
   "cell_type": "markdown",
   "metadata": {},
   "source": [
    "Probability -> The likelihood of how an event will occurs"
   ]
  },
  {
   "cell_type": "code",
   "execution_count": null,
   "metadata": {},
   "outputs": [],
   "source": []
  },
  {
   "cell_type": "code",
   "execution_count": null,
   "metadata": {},
   "outputs": [],
   "source": []
  }
 ],
 "metadata": {
  "kernelspec": {
   "display_name": "Python 3 (ipykernel)",
   "language": "python",
   "name": "python3"
  },
  "language_info": {
   "codemirror_mode": {
    "name": "ipython",
    "version": 3
   },
   "file_extension": ".py",
   "mimetype": "text/x-python",
   "name": "python",
   "nbconvert_exporter": "python",
   "pygments_lexer": "ipython3",
   "version": "3.10.13"
  }
 },
 "nbformat": 4,
 "nbformat_minor": 4
}
