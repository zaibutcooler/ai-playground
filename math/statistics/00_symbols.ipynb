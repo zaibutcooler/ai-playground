{
 "cells": [
  {
   "cell_type": "code",
   "execution_count": 1,
   "id": "fb4b2a28-2693-45cf-a0dc-7ff2e967ea99",
   "metadata": {},
   "outputs": [],
   "source": [
    "from sympy import symbols\n",
    "\n",
    "# Define symbols for population parameters\n",
    "mu = symbols('mu')  # Population mean\n",
    "sigma = symbols('sigma')  # Population standard deviation\n",
    "sigma_squared = symbols('sigma^2')  # Population variance\n",
    "p = symbols('p')  # Population proportion\n",
    "N = symbols('N')  # Population size\n",
    "\n",
    "# Define symbols for sample statistics\n",
    "x_bar = symbols('x_bar')  # Sample mean\n",
    "s = symbols('s')  # Sample standard deviation\n",
    "s_squared = symbols('s^2')  # Sample variance\n",
    "p_hat = symbols('p_hat')  # Sample proportion\n",
    "n = symbols('n')  # Sample size"
   ]
  },
  {
   "cell_type": "code",
   "execution_count": null,
   "id": "45efe5f7-73a6-4296-af08-5ff6a60dd978",
   "metadata": {},
   "outputs": [],
   "source": []
  }
 ],
 "metadata": {
  "kernelspec": {
   "display_name": "ai_env",
   "language": "python",
   "name": "ai_env"
  },
  "language_info": {
   "codemirror_mode": {
    "name": "ipython",
    "version": 3
   },
   "file_extension": ".py",
   "mimetype": "text/x-python",
   "name": "python",
   "nbconvert_exporter": "python",
   "pygments_lexer": "ipython3",
   "version": "3.10.13"
  }
 },
 "nbformat": 4,
 "nbformat_minor": 5
}
