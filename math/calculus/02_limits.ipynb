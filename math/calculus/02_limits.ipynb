{
 "cells": [
  {
   "cell_type": "markdown",
   "id": "663ea02a-73bd-430c-9763-509d781ff520",
   "metadata": {},
   "source": [
    "### Limits\n",
    "\n",
    "What is limit?\n",
    "Describes the behavior of a function as it approaches to a certain value\n",
    "\n",
    "Why it is useful??\n",
    "\n",
    "\n",
    "How can we use limit??\n",
    "It can be used to analyze the behavior of a function.\n",
    "\n",
    "\n",
    "How can we read limit??\n",
    "\n",
    "What's the relationship between limits and intergrals or others stuffs??\n",
    "\n",
    "How many should I learn in order to understand limits??"
   ]
  }
 ],
 "metadata": {
  "kernelspec": {
   "display_name": "Python 3 (ipykernel)",
   "language": "python",
   "name": "python3"
  },
  "language_info": {
   "codemirror_mode": {
    "name": "ipython",
    "version": 3
   },
   "file_extension": ".py",
   "mimetype": "text/x-python",
   "name": "python",
   "nbconvert_exporter": "python",
   "pygments_lexer": "ipython3",
   "version": "3.10.13"
  }
 },
 "nbformat": 4,
 "nbformat_minor": 5
}
