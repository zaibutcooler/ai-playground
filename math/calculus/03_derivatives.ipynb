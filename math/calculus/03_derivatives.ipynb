{
 "cells": [
  {
   "cell_type": "markdown",
   "id": "a548d1a7-d281-4190-93b7-70579a737260",
   "metadata": {},
   "source": [
    "### Derivative\n",
    "\n",
    "The derivative of a function represents how the function changes with respect to its input (typically denoted as x).\n",
    "\n",
    "Geometrically, it corresponds to the slope of the tangent line to the graph of the function at a given point.\r\n",
    "\n",
    "Algebraically, it's defined as the limit of the average rate of change of the function over a small interval as the interval approaches zero."
   ]
  },
  {
   "cell_type": "code",
   "execution_count": null,
   "id": "582c343e-c810-45b4-a3e5-10ba199f4020",
   "metadata": {},
   "outputs": [],
   "source": []
  }
 ],
 "metadata": {
  "kernelspec": {
   "display_name": "Python 3 (ipykernel)",
   "language": "python",
   "name": "python3"
  },
  "language_info": {
   "codemirror_mode": {
    "name": "ipython",
    "version": 3
   },
   "file_extension": ".py",
   "mimetype": "text/x-python",
   "name": "python",
   "nbconvert_exporter": "python",
   "pygments_lexer": "ipython3",
   "version": "3.10.13"
  }
 },
 "nbformat": 4,
 "nbformat_minor": 5
}
