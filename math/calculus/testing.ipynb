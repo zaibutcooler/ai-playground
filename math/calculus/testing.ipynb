{
 "cells": [
  {
   "cell_type": "markdown",
   "id": "83ff856c-d023-4e79-9e0c-c576b98bd5b1",
   "metadata": {},
   "source": [
    "### Limits"
   ]
  },
  {
   "cell_type": "code",
   "execution_count": 4,
   "id": "94f1020c-8e23-41ce-bec7-d9eb0f0be07a",
   "metadata": {},
   "outputs": [],
   "source": [
    "import sympy as sp"
   ]
  },
  {
   "cell_type": "code",
   "execution_count": 5,
   "id": "0064c839-99d3-4af5-92ae-fa633c600a9a",
   "metadata": {},
   "outputs": [],
   "source": [
    "x = sp.symbols('x')\n",
    "y = sp.symbols('y')"
   ]
  },
  {
   "cell_type": "code",
   "execution_count": 25,
   "id": "3ad4fed1-c8a9-4daa-ba05-3b17543346b5",
   "metadata": {},
   "outputs": [],
   "source": [
    "f = sp.Eq(((x**2)+4),y)"
   ]
  },
  {
   "cell_type": "code",
   "execution_count": 26,
   "id": "a9412f51-ebcf-475b-bce3-03cf8146151b",
   "metadata": {},
   "outputs": [
    {
     "data": {
      "text/latex": [
       "$\\displaystyle x^{2} + 4 = y$"
      ],
      "text/plain": [
       "Eq(x**2 + 4, y)"
      ]
     },
     "execution_count": 26,
     "metadata": {},
     "output_type": "execute_result"
    }
   ],
   "source": [
    "f"
   ]
  },
  {
   "cell_type": "code",
   "execution_count": 27,
   "id": "abeed177-d0b9-43fb-88e6-b389e9f1e73e",
   "metadata": {},
   "outputs": [
    {
     "data": {
      "text/plain": [
       "[-sqrt(y - 4), sqrt(y - 4)]"
      ]
     },
     "execution_count": 27,
     "metadata": {},
     "output_type": "execute_result"
    }
   ],
   "source": [
    "ans = sp.solve(f,x)\n",
    "ans"
   ]
  },
  {
   "cell_type": "code",
   "execution_count": 35,
   "id": "fd366686-d784-4b33-814d-313b6953c6a1",
   "metadata": {},
   "outputs": [
    {
     "data": {
      "text/latex": [
       "$\\displaystyle \\cos{\\left(x \\right)}$"
      ],
      "text/plain": [
       "cos(x)"
      ]
     },
     "execution_count": 35,
     "metadata": {},
     "output_type": "execute_result"
    }
   ],
   "source": [
    "diff_ans = sp.diff(sp.sin(x))\n",
    "diff_ans"
   ]
  },
  {
   "cell_type": "code",
   "execution_count": 33,
   "id": "48697e8d-6cd8-4c1a-beea-df2f5c744eaa",
   "metadata": {},
   "outputs": [
    {
     "data": {
      "text/latex": [
       "$\\displaystyle \\frac{x^{3}}{3}$"
      ],
      "text/plain": [
       "x**3/3"
      ]
     },
     "execution_count": 33,
     "metadata": {},
     "output_type": "execute_result"
    }
   ],
   "source": [
    "inte_ans = sp.integrate(x**2)\n",
    "inte_ans"
   ]
  },
  {
   "cell_type": "code",
   "execution_count": 39,
   "id": "97227516-5044-4bab-a842-2763ac967473",
   "metadata": {},
   "outputs": [
    {
     "data": {
      "text/latex": [
       "$\\displaystyle 64$"
      ],
      "text/plain": [
       "64"
      ]
     },
     "execution_count": 39,
     "metadata": {},
     "output_type": "execute_result"
    }
   ],
   "source": [
    "lim_ans = (sp.limit(x**3,x,4,dir=\"-\"))\n",
    "lim_ans"
   ]
  },
  {
   "cell_type": "code",
   "execution_count": 47,
   "id": "c5fb8ee7-a93e-4a9b-adae-bf68dc8a40e1",
   "metadata": {},
   "outputs": [
    {
     "data": {
      "text/plain": [
       "[-1, 0, -2*I, 2*I]"
      ]
     },
     "execution_count": 47,
     "metadata": {},
     "output_type": "execute_result"
    }
   ],
   "source": [
    "f = x**2 + 4\n",
    "g = x**2+x\n",
    "\n",
    "ans = f*g\n",
    "ans\n",
    "\n",
    "real_ans = sp.solve(ans,x)\n",
    "real_ans"
   ]
  },
  {
   "cell_type": "code",
   "execution_count": 48,
   "id": "fb2ff929-1cdc-4f9a-8cd6-1d44542ab969",
   "metadata": {},
   "outputs": [],
   "source": [
    "equation = ((1+sp.sin(x))/(1-sp.cos(x)))**2"
   ]
  },
  {
   "cell_type": "code",
   "execution_count": 51,
   "id": "7c4e4cb7-59c0-4180-9822-15572bd75772",
   "metadata": {},
   "outputs": [
    {
     "data": {
      "text/latex": [
       "$\\displaystyle \\frac{2 \\left(\\sin{\\left(x \\right)} + 1\\right) \\cos{\\left(x \\right)}}{\\left(1 - \\cos{\\left(x \\right)}\\right)^{2}} - \\frac{2 \\left(\\sin{\\left(x \\right)} + 1\\right)^{2} \\sin{\\left(x \\right)}}{\\left(1 - \\cos{\\left(x \\right)}\\right)^{3}}$"
      ],
      "text/plain": [
       "2*(sin(x) + 1)*cos(x)/(1 - cos(x))**2 - 2*(sin(x) + 1)**2*sin(x)/(1 - cos(x))**3"
      ]
     },
     "execution_count": 51,
     "metadata": {},
     "output_type": "execute_result"
    }
   ],
   "source": [
    "sp.diff(equation)"
   ]
  },
  {
   "cell_type": "code",
   "execution_count": 52,
   "id": "10b345ad-5910-49f8-9431-99ec3ae2d853",
   "metadata": {},
   "outputs": [
    {
     "data": {
      "text/latex": [
       "$\\displaystyle - \\frac{1}{\\sin{\\left(x \\right)}}$"
      ],
      "text/plain": [
       "-1/sin(x)"
      ]
     },
     "execution_count": 52,
     "metadata": {},
     "output_type": "execute_result"
    }
   ],
   "source": [
    "sp.integrate(sp.csc(x)*sp.cot(x),x)"
   ]
  },
  {
   "cell_type": "code",
   "execution_count": 54,
   "id": "76cd195e-8f84-4495-82ab-6c7e0b97859c",
   "metadata": {},
   "outputs": [
    {
     "data": {
      "text/latex": [
       "$\\displaystyle \\frac{1}{2}$"
      ],
      "text/plain": [
       "1/2"
      ]
     },
     "execution_count": 54,
     "metadata": {},
     "output_type": "execute_result"
    }
   ],
   "source": [
    "sp.Rational(0.5)"
   ]
  },
  {
   "cell_type": "code",
   "execution_count": 7,
   "id": "1532b121-257d-484d-b80d-1bd9af13bf2d",
   "metadata": {},
   "outputs": [
    {
     "data": {
      "text/latex": [
       "$\\displaystyle 6 x \\left(x^{2} + 1\\right)^{2}$"
      ],
      "text/plain": [
       "6*x*(x**2 + 1)**2"
      ]
     },
     "execution_count": 7,
     "metadata": {},
     "output_type": "execute_result"
    }
   ],
   "source": [
    "f = (x**2 + 1)**3\n",
    "sp.diff(f)"
   ]
  },
  {
   "cell_type": "code",
   "execution_count": 13,
   "id": "af512747-10dd-498b-a11d-927a78390df9",
   "metadata": {},
   "outputs": [
    {
     "data": {
      "text/latex": [
       "$\\displaystyle \\frac{\\partial}{\\partial x} \\tan{\\left(x y \\right)} = x$"
      ],
      "text/plain": [
       "Derivative(Eq(tan(x*y), x), x)"
      ]
     },
     "execution_count": 13,
     "metadata": {},
     "output_type": "execute_result"
    }
   ],
   "source": [
    "equation = sp.Eq(sp.tan(x*y),x)\n",
    "sp.diff(equation,x)"
   ]
  },
  {
   "cell_type": "code",
   "execution_count": 14,
   "id": "c578a2cc-a1b3-4f09-b2c7-b829d1233a5c",
   "metadata": {},
   "outputs": [
    {
     "name": "stdout",
     "output_type": "stream",
     "text": [
      "f'(3) = 117\n"
     ]
    }
   ],
   "source": [
    "import sympy as sp\n",
    "\n",
    "# Define the variable and the function\n",
    "x = sp.symbols('x')\n",
    "f = x**3 + 17*x**2 - 12*x + 2\n",
    "\n",
    "# Find the derivative of the function\n",
    "f_prime = sp.diff(f, x)\n",
    "\n",
    "# Evaluate the derivative at x = 3\n",
    "result = f_prime.subs(x, 3)\n",
    "print(\"f'(3) =\", result)\n"
   ]
  },
  {
   "cell_type": "code",
   "execution_count": 15,
   "id": "173debec-1cbb-4d77-8519-c5a7cd6f1384",
   "metadata": {},
   "outputs": [
    {
     "name": "stdout",
     "output_type": "stream",
     "text": [
      "Slope of the secant line between x = 3 and x = 4 is: 175\n"
     ]
    }
   ],
   "source": [
    "import sympy as sp\n",
    "\n",
    "# Define the variable and the function\n",
    "x = sp.symbols('x')\n",
    "f = x**4\n",
    "\n",
    "# Calculate the values of the function at x = 3 and x = 4\n",
    "f_at_3 = f.subs(x, 3)\n",
    "f_at_4 = f.subs(x, 4)\n",
    "\n",
    "# Calculate the slope of the secant line\n",
    "slope_secant = (f_at_4 - f_at_3) / (4 - 3)\n",
    "\n",
    "print(\"Slope of the secant line between x = 3 and x = 4 is:\", slope_secant)\n"
   ]
  },
  {
   "cell_type": "code",
   "execution_count": 16,
   "id": "a1d29242-dfb6-4c75-aa9a-0669278b786f",
   "metadata": {},
   "outputs": [
    {
     "name": "stdout",
     "output_type": "stream",
     "text": [
      "Slope of the tangent line to f(x) = x^4 at x = 3 is: 108\n"
     ]
    }
   ],
   "source": [
    "import sympy as sp\n",
    "\n",
    "# Define the variable and the function\n",
    "x = sp.symbols('x')\n",
    "f = x**4\n",
    "\n",
    "# Find the derivative of the function\n",
    "f_prime = sp.diff(f, x)\n",
    "\n",
    "# Evaluate the derivative at x = 3\n",
    "slope_tangent = f_prime.subs(x, 3)\n",
    "\n",
    "print(\"Slope of the tangent line to f(x) = x^4 at x = 3 is:\", slope_tangent)\n",
    "\n"
   ]
  },
  {
   "cell_type": "code",
   "execution_count": 17,
   "id": "988628c4-8ce5-473c-941f-5d5bcf1edff6",
   "metadata": {},
   "outputs": [
    {
     "name": "stdout",
     "output_type": "stream",
     "text": [
      "Average cost per jacket in the interval [10, 12]: 234.266666666667\n",
      "Average cost of making 1500 jackets: 310.066666666667\n"
     ]
    }
   ],
   "source": [
    "import sympy as sp\n",
    "\n",
    "# Define the variable and the function\n",
    "x = sp.symbols('x')\n",
    "C = 100 + 10*x + 0.2*x**2\n",
    "\n",
    "# Calculate the average cost in the interval [10, 12]\n",
    "a, b = 10, 12\n",
    "average_cost_interval = (1 / (b - a)) * sp.integrate(C, (x, a, b))\n",
    "\n",
    "print(\"Average cost per jacket in the interval [10, 12]:\", average_cost_interval)\n",
    "\n",
    "# Calculate the average cost of making 1500 jackets\n",
    "# Total cost for 1500 jackets\n",
    "total_cost_1500_jackets = C.subs(x, 1500)\n",
    "\n",
    "# Average cost for 1500 jackets\n",
    "average_cost_1500_jackets = total_cost_1500_jackets / 1500\n",
    "\n",
    "print(\"Average cost of making 1500 jackets:\", average_cost_1500_jackets)\n"
   ]
  },
  {
   "cell_type": "code",
   "execution_count": 18,
   "id": "bf92f1b4-e9d9-478a-ad15-e3affbe13ba8",
   "metadata": {},
   "outputs": [
    {
     "name": "stdout",
     "output_type": "stream",
     "text": [
      "f'(x) = x**2 + 16*x + (x + 2)*(2*x + 16) + 4\n"
     ]
    }
   ],
   "source": [
    "import sympy as sp\n",
    "\n",
    "# Define the variable and the function\n",
    "x = sp.symbols('x')\n",
    "f = (x + 2) * (x**2 + 16*x + 4)\n",
    "\n",
    "# Find the derivative of the function using the product rule\n",
    "f_prime = sp.diff(f, x)\n",
    "\n",
    "print(\"f'(x) =\", f_prime)\n"
   ]
  },
  {
   "cell_type": "code",
   "execution_count": 19,
   "id": "d3c119a6-7f50-4b56-84a6-fe5e31b9cc7a",
   "metadata": {},
   "outputs": [
    {
     "data": {
      "text/latex": [
       "$\\displaystyle \\left(x + 2\\right) \\left(x^{2} + 16 x + 4\\right)$"
      ],
      "text/plain": [
       "(x + 2)*(x**2 + 16*x + 4)"
      ]
     },
     "execution_count": 19,
     "metadata": {},
     "output_type": "execute_result"
    }
   ],
   "source": [
    "f"
   ]
  },
  {
   "cell_type": "code",
   "execution_count": 25,
   "id": "6e5b3352-59b2-4a06-8277-97df834fa095",
   "metadata": {},
   "outputs": [
    {
     "name": "stdout",
     "output_type": "stream",
     "text": [
      "f'(x) = (4*x**3 - 15*x**2 + 4*x)/(3*x**2) - 2*(x**4 - 5*x**3 + 2*x**2 - 5)/(3*x**3)\n"
     ]
    },
    {
     "data": {
      "text/latex": [
       "$\\displaystyle \\frac{x^{4} - 5 x^{3} + 2 x^{2} - 5}{3 x^{2}}$"
      ],
      "text/plain": [
       "(x**4 - 5*x**3 + 2*x**2 - 5)/(3*x**2)"
      ]
     },
     "execution_count": 25,
     "metadata": {},
     "output_type": "execute_result"
    }
   ],
   "source": [
    "import sympy as sp\n",
    "\n",
    "# Define the variable and the function\n",
    "x = sp.symbols('x')\n",
    "f = (x**4 - 5*x**3 + 2*x**2 - 5) / (3*x**2)\n",
    "\n",
    "# Find the derivative of the function using the quotient rule\n",
    "f_prime = sp.diff(f, x)\n",
    "\n",
    "print(\"f'(x) =\", f_prime)\n",
    "f"
   ]
  },
  {
   "cell_type": "code",
   "execution_count": 22,
   "id": "dcdb6cc2-b2db-47e5-8f23-529ff5e3d4be",
   "metadata": {},
   "outputs": [],
   "source": [
    "equ=(x+2)*(x**2 +16*x + 4)"
   ]
  },
  {
   "cell_type": "code",
   "execution_count": 23,
   "id": "a8857f5f-73d0-4329-9de6-85e5b942219a",
   "metadata": {},
   "outputs": [
    {
     "data": {
      "text/latex": [
       "$\\displaystyle x^{2} + 16 x + \\left(x + 2\\right) \\left(2 x + 16\\right) + 4$"
      ],
      "text/plain": [
       "x**2 + 16*x + (x + 2)*(2*x + 16) + 4"
      ]
     },
     "execution_count": 23,
     "metadata": {},
     "output_type": "execute_result"
    }
   ],
   "source": [
    "sp.diff(equ)"
   ]
  },
  {
   "cell_type": "code",
   "execution_count": 24,
   "id": "079c9038-a2da-4d43-be3f-778029b7c348",
   "metadata": {},
   "outputs": [
    {
     "data": {
      "text/plain": [
       "36"
      ]
     },
     "execution_count": 24,
     "metadata": {},
     "output_type": "execute_result"
    }
   ],
   "source": [
    "16*2 + 4"
   ]
  },
  {
   "cell_type": "code",
   "execution_count": 26,
   "id": "16f5ebe1-0e62-4563-9756-b9cbf374ad03",
   "metadata": {},
   "outputs": [
    {
     "name": "stdout",
     "output_type": "stream",
     "text": [
      "Equation of the tangent line: 11*x + y + 4 = 0\n"
     ]
    }
   ],
   "source": [
    "import sympy as sp\n",
    "\n",
    "# Define the variable and the function\n",
    "x = sp.symbols('x')\n",
    "f = (x + 2) * (x**3 - 5*x - 1)\n",
    "\n",
    "# Find the derivative of the function\n",
    "f_prime = sp.diff(f, x)\n",
    "\n",
    "# Evaluate the derivative at x = 1 to find the slope of the tangent line\n",
    "slope = f_prime.subs(x, 1)\n",
    "\n",
    "# Find the value of f(1) to get a point on the tangent line\n",
    "point_on_tangent = f.subs(x, 1)\n",
    "\n",
    "# Use point-slope form to write the equation of the tangent line: y - y1 = m(x - x1)\n",
    "# Where (x1, y1) is the point on the tangent line\n",
    "# And m is the slope of the tangent line\n",
    "# We already have x1 = 1, y1 = f(1), and m = slope\n",
    "\n",
    "# Equation of the tangent line\n",
    "tangent_line_eq = sp.symbols('y') - point_on_tangent - slope * (x - 1)\n",
    "\n",
    "print(\"Equation of the tangent line:\", tangent_line_eq, \"= 0\")\n"
   ]
  },
  {
   "cell_type": "code",
   "execution_count": 35,
   "id": "72b6badc-fbd9-4c72-abc0-3a6daea39a0f",
   "metadata": {},
   "outputs": [
    {
     "data": {
      "text/latex": [
       "$\\displaystyle -15$"
      ],
      "text/plain": [
       "-15"
      ]
     },
     "execution_count": 35,
     "metadata": {},
     "output_type": "execute_result"
    }
   ],
   "source": [
    "eq = (x+2)*(x**3-5*x-1)\n",
    "ans = sp.diff(eq) \n",
    "ans.subs(x,1)\n",
    "eq.subs(x,1)"
   ]
  },
  {
   "cell_type": "code",
   "execution_count": 36,
   "id": "18a59c6c-831c-492b-abf7-11b50641bac8",
   "metadata": {},
   "outputs": [
    {
     "name": "stdout",
     "output_type": "stream",
     "text": [
      "Rate of change at t = 2 hours: 0\n"
     ]
    }
   ],
   "source": [
    "import sympy as sp\n",
    "\n",
    "# Define the variable and the function\n",
    "t = sp.symbols('t')\n",
    "C = (t**2 + 4) / (2*t)\n",
    "\n",
    "# Find the derivative of the function with respect to t\n",
    "dC_dt = sp.diff(C, t)\n",
    "\n",
    "# Evaluate the derivative at t = 2 to determine the rate of change\n",
    "rate_of_change_at_2 = dC_dt.subs(t, 2)\n",
    "\n",
    "print(\"Rate of change at t = 2 hours:\", rate_of_change_at_2)\n"
   ]
  },
  {
   "cell_type": "code",
   "execution_count": null,
   "id": "64f255b9-d953-4bf3-b08d-a7efb3ff2e75",
   "metadata": {},
   "outputs": [],
   "source": []
  }
 ],
 "metadata": {
  "kernelspec": {
   "display_name": "Python 3 (ipykernel)",
   "language": "python",
   "name": "python3"
  },
  "language_info": {
   "codemirror_mode": {
    "name": "ipython",
    "version": 3
   },
   "file_extension": ".py",
   "mimetype": "text/x-python",
   "name": "python",
   "nbconvert_exporter": "python",
   "pygments_lexer": "ipython3",
   "version": "3.10.13"
  }
 },
 "nbformat": 4,
 "nbformat_minor": 5
}
