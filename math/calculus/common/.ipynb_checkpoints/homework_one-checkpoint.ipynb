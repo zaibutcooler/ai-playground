{
 "cells": [
  {
   "cell_type": "code",
   "execution_count": 2,
   "id": "0923749f-8463-41ed-a52f-b8123aed4b20",
   "metadata": {},
   "outputs": [
    {
     "name": "stdout",
     "output_type": "stream",
     "text": [
      "1. Derivative of f(x)=2e^x-8^x:\n",
      "-8**x*log(8) + 2*exp(x)\n",
      "\n",
      "2. Derivative of f(z)=z^5-e^z*ln(z):\n",
      "5*z**4 - exp(z)*log(z) - exp(z)/z\n",
      "\n",
      "3. Tangent line to f(x)=7^x+4e^x at x=0:\n",
      "5\n"
     ]
    }
   ],
   "source": [
    "import sympy as sp\n",
    "\n",
    "# Define the variable\n",
    "x = sp.symbols('x')\n",
    "\n",
    "# Function 1: f(x) = 2e^x - 8^x\n",
    "f1 = 2*sp.exp(x) - 8**x\n",
    "df1 = sp.diff(f1, x)\n",
    "\n",
    "# Function 2: f(z) = z^5 - e^z * ln(z)\n",
    "z = sp.symbols('z')\n",
    "f2 = z**5 - sp.exp(z) * sp.ln(z)\n",
    "df2 = sp.diff(f2, z)\n",
    "\n",
    "# Function 3: f(x) = 7^x + 4e^x\n",
    "f3 = 7**x + 4*sp.exp(x)\n",
    "df3 = sp.diff(f3, x)\n",
    "\n",
    "# Tangent line to f3 at x=0\n",
    "tangent_line = f3.series(x, x0=0, n=1).removeO()\n",
    "\n",
    "# Print the results\n",
    "print(\"1. Derivative of f(x)=2e^x-8^x:\")\n",
    "print(df1)\n",
    "print(\"\\n2. Derivative of f(z)=z^5-e^z*ln(z):\")\n",
    "print(df2)\n",
    "print(\"\\n3. Tangent line to f(x)=7^x+4e^x at x=0:\")\n",
    "print(tangent_line)\n"
   ]
  },
  {
   "cell_type": "code",
   "execution_count": 3,
   "id": "f887d2b1-2e49-49e0-9f52-0d8e5623413d",
   "metadata": {},
   "outputs": [
    {
     "name": "stdout",
     "output_type": "stream",
     "text": [
      "4. Determine if G(z) = (z-6)ln(z) is increasing or decreasing:\n",
      "At z=1, G'(1) = -5\n",
      "At z=5, G'(5) = -1/5 + log(5)\n",
      "At z=20, G'(20) = 7/10 + log(20)\n",
      "\n",
      "5. Derivative of f(x) = (x+1)^x:\n",
      "(x + 1)**x*(x/(x + 1) + log(x + 1))\n",
      "\n",
      "6. Derivative of f(x) = x^(x+1):\n",
      "x**(x + 1)*(log(x) + (x + 1)/x)\n"
     ]
    }
   ],
   "source": [
    "import sympy as sp\n",
    "\n",
    "# Define the variable\n",
    "z = sp.symbols('z')\n",
    "x = sp.symbols('x')\n",
    "\n",
    "# Function 4: G(z) = (z-6)ln(z)\n",
    "G = (z - 6) * sp.ln(z)\n",
    "dG = sp.diff(G, z)\n",
    "\n",
    "# (a) Evaluate at z=1\n",
    "G_1 = dG.subs(z, 1)\n",
    "\n",
    "# (b) Evaluate at z=5\n",
    "G_5 = dG.subs(z, 5)\n",
    "\n",
    "# (c) Evaluate at z=20\n",
    "G_20 = dG.subs(z, 20)\n",
    "\n",
    "# Function 5: f(x) = (x+1)^x\n",
    "f5 = (x + 1)**x\n",
    "df5 = sp.diff(f5, x)\n",
    "\n",
    "# Function 6: f(x) = x^(x+1)\n",
    "f6 = x**(x + 1)\n",
    "df6 = sp.diff(f6, x)\n",
    "\n",
    "# Print the results\n",
    "print(\"4. Determine if G(z) = (z-6)ln(z) is increasing or decreasing:\")\n",
    "print(\"At z=1, G'(1) =\", G_1)\n",
    "print(\"At z=5, G'(5) =\", G_5)\n",
    "print(\"At z=20, G'(20) =\", G_20)\n",
    "\n",
    "print(\"\\n5. Derivative of f(x) = (x+1)^x:\")\n",
    "print(df5)\n",
    "\n",
    "print(\"\\n6. Derivative of f(x) = x^(x+1):\")\n",
    "print(df6)\n"
   ]
  },
  {
   "cell_type": "code",
   "execution_count": 4,
   "id": "dbf889c4-d6b1-4ac0-8877-5a6cd8370f24",
   "metadata": {},
   "outputs": [
    {
     "name": "stdout",
     "output_type": "stream",
     "text": [
      "7. Derivative of f(x) = (sqrt(x))^x:\n",
      "x**(x/2)*(log(x)/2 + 1/2)\n"
     ]
    }
   ],
   "source": [
    "import sympy as sp\n",
    "\n",
    "# Define the variable\n",
    "x = sp.symbols('x')\n",
    "\n",
    "# Function 7: f(x) = (sqrt(x))^x\n",
    "f7 = sp.sqrt(x)**x\n",
    "df7 = sp.diff(f7, x)\n",
    "\n",
    "# Print the result\n",
    "print(\"7. Derivative of f(x) = (sqrt(x))^x:\")\n",
    "print(df7)\n"
   ]
  },
  {
   "cell_type": "code",
   "execution_count": 5,
   "id": "35d7e9e8-cce9-4610-8df9-a203b87ea45a",
   "metadata": {},
   "outputs": [
    {
     "name": "stdout",
     "output_type": "stream",
     "text": [
      "\n",
      "8. dy/dx for sqrt(3x^2 + 1) * (3x^4 + 1)^3:\n",
      "36*x**3*sqrt(3*x**2 + 1)*(3*x**4 + 1)**2 + 3*x*(3*x**4 + 1)**3/sqrt(3*x**2 + 1)\n"
     ]
    }
   ],
   "source": [
    "# Function 8: y = sqrt(3x^2 + 1) * (3x^4 + 1)^3\n",
    "y = sp.sqrt(3*x**2 + 1) * (3*x**4 + 1)**3\n",
    "dy_dx = sp.diff(y, x)\n",
    "\n",
    "# Print the result\n",
    "print(\"\\n8. dy/dx for sqrt(3x^2 + 1) * (3x^4 + 1)^3:\")\n",
    "print(dy_dx)\n"
   ]
  },
  {
   "cell_type": "code",
   "execution_count": 6,
   "id": "3f9cb448-f82e-4fd4-8e4d-ab25da68eee5",
   "metadata": {},
   "outputs": [
    {
     "name": "stdout",
     "output_type": "stream",
     "text": [
      "\n",
      "9. dy/dx for y = 3x^(3x):\n",
      "3*x**(3*x)*(3*log(x) + 3)\n"
     ]
    }
   ],
   "source": [
    "# Function 9: y = 3x^(3x)\n",
    "y9 = 3*x**(3*x)\n",
    "dy_dx9 = sp.diff(y9, x)\n",
    "\n",
    "# Print the result\n",
    "print(\"\\n9. dy/dx for y = 3x^(3x):\")\n",
    "print(dy_dx9)\n"
   ]
  },
  {
   "cell_type": "code",
   "execution_count": null,
   "id": "e888988c-d970-4f00-ae35-554fea3d5802",
   "metadata": {},
   "outputs": [],
   "source": []
  }
 ],
 "metadata": {
  "kernelspec": {
   "display_name": "Python 3 (ipykernel)",
   "language": "python",
   "name": "python3"
  },
  "language_info": {
   "codemirror_mode": {
    "name": "ipython",
    "version": 3
   },
   "file_extension": ".py",
   "mimetype": "text/x-python",
   "name": "python",
   "nbconvert_exporter": "python",
   "pygments_lexer": "ipython3",
   "version": "3.10.13"
  }
 },
 "nbformat": 4,
 "nbformat_minor": 5
}
