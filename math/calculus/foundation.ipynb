{
 "cells": [
  {
   "cell_type": "markdown",
   "id": "b5d54478-b3d1-4497-bbb0-2d88903f77cd",
   "metadata": {},
   "source": [
    "## Foundation of calculus"
   ]
  },
  {
   "cell_type": "markdown",
   "id": "1a64bafe-c314-4279-a37e-e9d9d4a00596",
   "metadata": {},
   "source": [
    "So as far as I know, we are finding the rate of change, aka the slope of a function\n",
    "\n",
    "Acceleration is one of them, can't measure the rate of change if the thing isn't moving at all. \n",
    "\n",
    "And the two function of them is also interesting. The function and the diffed function slope is exactly the same.\n"
   ]
  },
  {
   "cell_type": "markdown",
   "id": "d43d0fa9-4733-4021-9ed3-53445c3c89e0",
   "metadata": {},
   "source": [
    "And more interesting thing is that how do we get the dy/dx \n",
    "\n",
    "okay so let's think of x^2 first, so it will be a square(12 x 12 shaped rectangle), so okay to get the tiny amount of change which is df(the change of the function x^2 ) it will be like this. df (change of the function) = 2x(the two sides of the rectangle) * dx(the amount of change which is tiny) then we get df/dx = 2x. that's the magic that I been looking for."
   ]
  },
  {
   "cell_type": "markdown",
   "id": "b7a5e0e1-f89b-42e6-bb58-baf924f195d8",
   "metadata": {},
   "source": [
    "Okay so product rule, let's say we have  x^2 sin(x), if we visualize that into a rectangle, if we want to find the df, it will be the same as product rule, differentiate the front and left the blank blah blah,"
   ]
  },
  {
   "cell_type": "markdown",
   "id": "191d922a-13bf-4583-868c-3587a90aa8db",
   "metadata": {},
   "source": [
    "Holy cow wait, I started to understand what dy/dx means let me demostrate with code."
   ]
  },
  {
   "cell_type": "code",
   "execution_count": 5,
   "id": "b5cca117-ca45-47f6-a801-8e702c653acc",
   "metadata": {},
   "outputs": [],
   "source": [
    "distance = 6 #feet\n",
    "time = 3 #second\n",
    "speed = distance / time # 2 feet per second"
   ]
  },
  {
   "cell_type": "code",
   "execution_count": 16,
   "id": "de3aa7e0-3c5f-43da-8a13-82f9a3b4375c",
   "metadata": {},
   "outputs": [
    {
     "name": "stdout",
     "output_type": "stream",
     "text": [
      "f -> 0, f_prime -> 0\n",
      "f -> 1, f_prime -> 2\n",
      "f -> 4, f_prime -> 4\n",
      "f -> 9, f_prime -> 6\n",
      "f -> 16, f_prime -> 8\n",
      "f -> 25, f_prime -> 10\n",
      "f -> 36, f_prime -> 12\n",
      "f -> 49, f_prime -> 14\n",
      "f -> 64, f_prime -> 16\n",
      "f -> 81, f_prime -> 18\n",
      "f -> 100, f_prime -> 20\n",
      "f -> 121, f_prime -> 22\n",
      "f -> 144, f_prime -> 24\n",
      "f -> 169, f_prime -> 26\n",
      "f -> 196, f_prime -> 28\n",
      "f -> 225, f_prime -> 30\n",
      "f -> 256, f_prime -> 32\n",
      "f -> 289, f_prime -> 34\n",
      "f -> 324, f_prime -> 36\n",
      "f -> 361, f_prime -> 38\n"
     ]
    },
    {
     "data": {
      "text/plain": [
       "[<matplotlib.lines.Line2D at 0x2653e0ff1c0>]"
      ]
     },
     "execution_count": 16,
     "metadata": {},
     "output_type": "execute_result"
    },
    {
     "data": {
      "image/png": "[encoded data removed]",
      "text/plain": [
       "<Figure size 640x480 with 1 Axes>"
      ]
     },
     "metadata": {},
     "output_type": "display_data"
    }
   ],
   "source": [
    "import sympy as sp\n",
    "import matplotlib.pyplot as plt\n",
    "\n",
    "x = sp.symbols('x')\n",
    "\n",
    "func = x**2\n",
    "df_by_dx = sp.diff(func)\n",
    "\n",
    "# at x = 1\n",
    "\n",
    "def compare(i):\n",
    "    print(f\"f -> {i**2}, f_prime -> {i*2}\")\n",
    "    return [i**2,i*2]\n",
    "\n",
    "pure_result = []\n",
    "diffed_result = []\n",
    "\n",
    "for i in range(20):\n",
    "    [normal,diffed]=compare(i)\n",
    "    pure_result.append(normal)\n",
    "    diffed_result.append(diffed)\n",
    "\n",
    "\n",
    "# plt.x_label(\"Pure result\")\n",
    "# plt.y_label(\"Diffed result\")\n",
    "plt.plot(pure_result,diffed_result)\n",
    "plt.plot(diffed_result,range(20))\n",
    "\n",
    "plt.plot(pure_result,diffed_result)\n"
   ]
  },
  {
   "cell_type": "markdown",
   "id": "f0e978d4-661e-4cbf-b251-7659b5da415a",
   "metadata": {},
   "source": []
  },
  {
   "cell_type": "markdown",
   "id": "0d63106d-aecc-43ec-bcc2-0b30fea59ce0",
   "metadata": {},
   "source": []
  },
  {
   "cell_type": "markdown",
   "id": "bdcd5988-137f-46f2-9062-6fa1d869033d",
   "metadata": {},
   "source": []
  },
  {
   "cell_type": "markdown",
   "id": "8549c96e-a075-496b-9b55-9734679db840",
   "metadata": {},
   "source": []
  },
  {
   "cell_type": "markdown",
   "id": "2e127d56-a087-411f-8dcc-f0f899e4560e",
   "metadata": {},
   "source": []
  },
  {
   "cell_type": "markdown",
   "id": "769e2bd3-cde6-4b14-9218-3bd55d8c8abe",
   "metadata": {},
   "source": []
  },
  {
   "cell_type": "markdown",
   "id": "8a540b15-ae29-4387-8c29-da0b7006ce8a",
   "metadata": {},
   "source": []
  }
 ],
 "metadata": {
  "kernelspec": {
   "display_name": "Python 3 (ipykernel)",
   "language": "python",
   "name": "python3"
  },
  "language_info": {
   "codemirror_mode": {
    "name": "ipython",
    "version": 3
   },
   "file_extension": ".py",
   "mimetype": "text/x-python",
   "name": "python",
   "nbconvert_exporter": "python",
   "pygments_lexer": "ipython3",
   "version": "3.10.13"
  }
 },
 "nbformat": 4,
 "nbformat_minor": 5
}
