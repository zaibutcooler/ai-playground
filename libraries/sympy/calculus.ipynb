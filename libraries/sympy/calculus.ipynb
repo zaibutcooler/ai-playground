{
 "cells": [
  {
   "cell_type": "code",
   "execution_count": 1,
   "id": "dfe76dd1-2ff7-4f7c-b5ba-7582ee10a7f7",
   "metadata": {},
   "outputs": [],
   "source": [
    "import sympy as smp"
   ]
  },
  {
   "cell_type": "code",
   "execution_count": 2,
   "id": "6f99fc26-42e5-4769-aaa7-7c53ed7f9c86",
   "metadata": {},
   "outputs": [],
   "source": [
    "# Limits"
   ]
  },
  {
   "cell_type": "code",
   "execution_count": null,
   "id": "f1b070ba-77ee-48c9-94b4-7f1e53a505e1",
   "metadata": {},
   "outputs": [],
   "source": []
  },
  {
   "cell_type": "code",
   "execution_count": 3,
   "id": "70e4dbed-c09d-4866-91f1-407a0c9f12a7",
   "metadata": {},
   "outputs": [],
   "source": [
    "# Differentiate"
   ]
  },
  {
   "cell_type": "code",
   "execution_count": null,
   "id": "9a5049e2-61ea-4596-873c-6136434e3389",
   "metadata": {},
   "outputs": [],
   "source": []
  },
  {
   "cell_type": "code",
   "execution_count": 4,
   "id": "858320b7-4b48-454a-9a87-7f520870aef5",
   "metadata": {},
   "outputs": [],
   "source": [
    "# Integrate"
   ]
  },
  {
   "cell_type": "code",
   "execution_count": null,
   "id": "3423a848-250d-418f-a5fe-0cb1afca7a26",
   "metadata": {},
   "outputs": [],
   "source": []
  },
  {
   "cell_type": "code",
   "execution_count": null,
   "id": "816d1669-10d6-483a-bdfd-7726bad8f72c",
   "metadata": {},
   "outputs": [],
   "source": []
  }
 ],
 "metadata": {
  "kernelspec": {
   "display_name": "Python 3 (ipykernel)",
   "language": "python",
   "name": "python3"
  },
  "language_info": {
   "codemirror_mode": {
    "name": "ipython",
    "version": 3
   },
   "file_extension": ".py",
   "mimetype": "text/x-python",
   "name": "python",
   "nbconvert_exporter": "python",
   "pygments_lexer": "ipython3",
   "version": "3.10.13"
  }
 },
 "nbformat": 4,
 "nbformat_minor": 5
}
