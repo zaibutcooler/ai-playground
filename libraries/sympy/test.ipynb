{
 "cells": [
  {
   "cell_type": "code",
   "execution_count": 2,
   "metadata": {},
   "outputs": [],
   "source": [
    "import sympy as smp"
   ]
  },
  {
   "cell_type": "code",
   "execution_count": 3,
   "metadata": {},
   "outputs": [],
   "source": [
    "x,y = smp.var('x y')"
   ]
  },
  {
   "cell_type": "code",
   "execution_count": 4,
   "metadata": {},
   "outputs": [],
   "source": [
    "y = x**4"
   ]
  },
  {
   "cell_type": "code",
   "execution_count": 5,
   "metadata": {},
   "outputs": [
    {
     "data": {
      "text/latex": [
       "$\\displaystyle 4 x^{3}$"
      ],
      "text/plain": [
       "4*x**3"
      ]
     },
     "execution_count": 5,
     "metadata": {},
     "output_type": "execute_result"
    }
   ],
   "source": [
    "smp.diff(y)"
   ]
  },
  {
   "cell_type": "code",
   "execution_count": 6,
   "metadata": {},
   "outputs": [
    {
     "data": {
      "text/latex": [
       "$\\displaystyle \\frac{x^{5}}{5}$"
      ],
      "text/plain": [
       "x**5/5"
      ]
     },
     "execution_count": 6,
     "metadata": {},
     "output_type": "execute_result"
    }
   ],
   "source": [
    "smp.integrate(y)"
   ]
  },
  {
   "cell_type": "code",
   "execution_count": 7,
   "metadata": {},
   "outputs": [
    {
     "data": {
      "text/latex": [
       "$\\displaystyle x^{4}$"
      ],
      "text/plain": [
       "x**4"
      ]
     },
     "execution_count": 7,
     "metadata": {},
     "output_type": "execute_result"
    }
   ],
   "source": [
    "smp.limit(y,0,1)"
   ]
  },
  {
   "cell_type": "code",
   "execution_count": 8,
   "metadata": {},
   "outputs": [
    {
     "data": {
      "text/latex": [
       "$\\displaystyle 4 x^{3} \\cos{\\left(x^{4} \\right)}$"
      ],
      "text/plain": [
       "4*x**3*cos(x**4)"
      ]
     },
     "execution_count": 8,
     "metadata": {},
     "output_type": "execute_result"
    }
   ],
   "source": [
    "smp.diff(smp.sin(y))"
   ]
  },
  {
   "cell_type": "code",
   "execution_count": 9,
   "metadata": {},
   "outputs": [
    {
     "data": {
      "text/latex": [
       "$\\displaystyle 4 x^{3} \\cos{\\left(x^{4} \\right)}$"
      ],
      "text/plain": [
       "4*x**3*cos(x**4)"
      ]
     },
     "execution_count": 9,
     "metadata": {},
     "output_type": "execute_result"
    }
   ],
   "source": [
    "smp.diff(smp.sin(y))"
   ]
  },
  {
   "cell_type": "code",
   "execution_count": 3,
   "metadata": {},
   "outputs": [],
   "source": [
    "num = ((-8)**2)*7"
   ]
  },
  {
   "cell_type": "markdown",
   "metadata": {},
   "source": []
  },
  {
   "cell_type": "code",
   "execution_count": 4,
   "metadata": {},
   "outputs": [
    {
     "data": {
      "text/plain": [
       "448"
      ]
     },
     "execution_count": 4,
     "metadata": {},
     "output_type": "execute_result"
    }
   ],
   "source": [
    "num"
   ]
  },
  {
   "cell_type": "code",
   "execution_count": 10,
   "metadata": {},
   "outputs": [
    {
     "name": "stdout",
     "output_type": "stream",
     "text": [
      "Limit as x approaches +∞: oo\n",
      "Limit as x approaches -∞: -1/64\n"
     ]
    }
   ],
   "source": [
    "import sympy as sp\n",
    "\n",
    "\n",
    "# Define the variable and the function\n",
    "x = sp.symbols('x')\n",
    "f = 1 / ((x-4)**2) * (x+3) \n",
    "\n",
    "# Calculate the limits\n",
    "limit_positive_infinity = sp.limit(f, x, 4)\n",
    "limit_negative_infinity = sp.limit(f, x, -4)\n",
    "\n",
    "# Print the results\n",
    "print(\"Limit as x approaches +∞:\", limit_positive_infinity)\n",
    "print(\"Limit as x approaches -∞:\", limit_negative_infinity)\n"
   ]
  },
  {
   "cell_type": "code",
   "execution_count": 14,
   "metadata": {},
   "outputs": [
    {
     "name": "stdout",
     "output_type": "stream",
     "text": [
      "Limit as x approaches +∞: 75/11\n",
      "Limit as x approaches -∞: 27/2\n"
     ]
    }
   ],
   "source": [
    "import sympy as sp\n",
    "\n",
    "\n",
    "# Define the variable and the function\n",
    "x = sp.symbols('x')\n",
    "f = (x**4 - x**2 +3)/((x**2)+2) \n",
    "\n",
    "# Calculate the limits\n",
    "limit_positive_infinity = sp.limit(f, x, 3)\n",
    "limit_negative_infinity = sp.limit(f, x, -4)\n",
    "\n",
    "# Print the results\n",
    "print(\"Limit as x approaches +∞:\", limit_positive_infinity)\n",
    "print(\"Limit as x approaches -∞:\", limit_negative_infinity)\n"
   ]
  },
  {
   "cell_type": "code",
   "execution_count": 13,
   "metadata": {},
   "outputs": [
    {
     "data": {
      "text/latex": [
       "$\\displaystyle 2 + \\frac{x^{4} - x^{2} + 3}{x^{2}}$"
      ],
      "text/plain": [
       "2 + (x**4 - x**2 + 3)/x**2"
      ]
     },
     "execution_count": 13,
     "metadata": {},
     "output_type": "execute_result"
    }
   ],
   "source": [
    "f"
   ]
  },
  {
   "cell_type": "code",
   "execution_count": null,
   "metadata": {},
   "outputs": [],
   "source": [
    "import sympy as sp\n",
    "\n",
    "\n",
    "# Define the variable and the function\n",
    "x = sp.symbols('x')\n",
    "f = (x**4 - x**2 +3)/((x**2)+2) \n",
    "\n",
    "# Calculate the limits\n",
    "limit_positive_infinity = sp.limit(f, x, 3)\n",
    "limit_negative_infinity = sp.limit(f, x, -4)\n",
    "\n",
    "# Print the results\n",
    "print(\"Limit as x approaches +∞:\", limit_positive_infinity)\n",
    "print(\"Limit as x approaches -∞:\", limit_negative_infinity)\n"
   ]
  },
  {
   "cell_type": "code",
   "execution_count": null,
   "metadata": {},
   "outputs": [],
   "source": []
  },
  {
   "cell_type": "code",
   "execution_count": null,
   "metadata": {},
   "outputs": [],
   "source": []
  }
 ],
 "metadata": {
  "kernelspec": {
   "display_name": "ai_env",
   "language": "python",
   "name": "python3"
  },
  "language_info": {
   "codemirror_mode": {
    "name": "ipython",
    "version": 3
   },
   "file_extension": ".py",
   "mimetype": "text/x-python",
   "name": "python",
   "nbconvert_exporter": "python",
   "pygments_lexer": "ipython3",
   "version": "3.10.13"
  }
 },
 "nbformat": 4,
 "nbformat_minor": 2
}
