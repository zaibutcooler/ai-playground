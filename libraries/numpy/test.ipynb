{
 "cells": [
  {
   "cell_type": "code",
   "execution_count": 2,
   "metadata": {},
   "outputs": [],
   "source": [
    "import numpy as np"
   ]
  },
  {
   "cell_type": "code",
   "execution_count": null,
   "metadata": {},
   "outputs": [],
   "source": []
  },
  {
   "cell_type": "code",
   "execution_count": 3,
   "metadata": {},
   "outputs": [],
   "source": [
    "# Create a 1D array from a Python list\n",
    "arr1d = np.array([1, 2, 3, 4, 5])\n",
    "\n",
    "# Create a 2D array (matrix) from a list of lists\n",
    "arr2d = np.array([[1, 2, 3], [4, 5, 6], [7, 8, 9]])\n",
    "\n",
    "# Create an array filled with zeros\n",
    "zeros_arr = np.zeros((3, 4))  # Creates a 3x4 array filled with zeros\n",
    "\n",
    "# Create an array filled with ones\n",
    "ones_arr = np.ones((2, 3))  # Creates a 2x3 array filled with ones\n",
    "\n",
    "# Create an array with a range of values\n",
    "range_arr = np.arange(0, 10, 2)  # Creates an array from 0 to 10 (exclusive) with step 2\n",
    "\n",
    "# Create an array with evenly spaced values\n",
    "linspace_arr = np.linspace(0, 5, 10)  # Creates 10 evenly spaced values from 0 to 5"
   ]
  },
  {
   "cell_type": "code",
   "execution_count": null,
   "metadata": {},
   "outputs": [],
   "source": []
  },
  {
   "cell_type": "code",
   "execution_count": 8,
   "metadata": {},
   "outputs": [],
   "source": [
    "one = np.random.rand(4)"
   ]
  },
  {
   "cell_type": "code",
   "execution_count": 9,
   "metadata": {},
   "outputs": [
    {
     "data": {
      "text/plain": [
       "(4,)"
      ]
     },
     "execution_count": 9,
     "metadata": {},
     "output_type": "execute_result"
    }
   ],
   "source": [
    "one.shape"
   ]
  },
  {
   "cell_type": "code",
   "execution_count": 10,
   "metadata": {},
   "outputs": [],
   "source": [
    "two = np.random.rand(5,2)"
   ]
  },
  {
   "cell_type": "code",
   "execution_count": 11,
   "metadata": {},
   "outputs": [
    {
     "data": {
      "text/plain": [
       "array([[0.6013653 , 0.89801867],\n",
       "       [0.94198053, 0.95190621],\n",
       "       [0.13185677, 0.10994867],\n",
       "       [0.96570963, 0.0638187 ],\n",
       "       [0.83430771, 0.78869438]])"
      ]
     },
     "execution_count": 11,
     "metadata": {},
     "output_type": "execute_result"
    }
   ],
   "source": [
    "two"
   ]
  },
  {
   "cell_type": "code",
   "execution_count": 12,
   "metadata": {},
   "outputs": [
    {
     "data": {
      "text/plain": [
       "(5, 2)"
      ]
     },
     "execution_count": 12,
     "metadata": {},
     "output_type": "execute_result"
    }
   ],
   "source": [
    "two.shape"
   ]
  },
  {
   "cell_type": "code",
   "execution_count": 13,
   "metadata": {},
   "outputs": [],
   "source": [
    "multi= np.random.rand(4,5,2,8)"
   ]
  },
  {
   "cell_type": "code",
   "execution_count": 14,
   "metadata": {},
   "outputs": [
    {
     "data": {
      "text/plain": [
       "array([[[[7.94403778e-01, 4.01850870e-01, 9.21953522e-01,\n",
       "          6.96461526e-01, 6.96493183e-02, 3.44827342e-01,\n",
       "          7.31086142e-01, 9.86320363e-01],\n",
       "         [4.62522143e-01, 8.88952795e-01, 2.66179218e-01,\n",
       "          6.83562839e-01, 1.85116501e-01, 1.35014838e-01,\n",
       "          6.49615772e-01, 7.43263757e-01]],\n",
       "\n",
       "        [[7.43673049e-01, 4.28423571e-01, 5.13638678e-01,\n",
       "          3.95093309e-01, 2.38525685e-01, 9.41810043e-01,\n",
       "          2.62182127e-01, 2.55017963e-02],\n",
       "         [7.72617365e-01, 8.83143690e-01, 6.33647072e-01,\n",
       "          4.93310556e-01, 5.07935793e-01, 3.30294934e-02,\n",
       "          1.66153151e-01, 2.46269783e-01]],\n",
       "\n",
       "        [[4.33669608e-01, 7.68730250e-01, 2.06251612e-01,\n",
       "          8.44179486e-01, 6.20672656e-01, 9.43494970e-01,\n",
       "          5.97975929e-01, 5.22353835e-01],\n",
       "         [9.39510201e-01, 8.00963998e-02, 5.89657552e-01,\n",
       "          2.13455339e-02, 7.70442586e-01, 8.90438302e-01,\n",
       "          8.01707112e-01, 1.05766411e-01]],\n",
       "\n",
       "        [[8.38753660e-01, 5.86375667e-01, 3.99169400e-01,\n",
       "          5.83154869e-02, 7.09532380e-01, 2.94611398e-01,\n",
       "          4.63518884e-01, 4.73282863e-01],\n",
       "         [5.45919502e-01, 1.15879630e-01, 1.33310887e-01,\n",
       "          9.41915634e-01, 1.77939518e-01, 1.23007808e-01,\n",
       "          2.90318150e-01, 6.54138159e-03]],\n",
       "\n",
       "        [[1.82205443e-01, 8.42738902e-02, 3.94909327e-01,\n",
       "          5.46731996e-01, 4.50597924e-01, 1.59876821e-01,\n",
       "          2.27239579e-01, 3.37163661e-01],\n",
       "         [5.78556872e-01, 6.51321227e-01, 2.41176647e-01,\n",
       "          6.29124337e-01, 2.48212539e-01, 9.94862742e-01,\n",
       "          9.72371110e-01, 4.52593653e-01]]],\n",
       "\n",
       "\n",
       "       [[[4.68674271e-01, 4.53804703e-01, 2.49398537e-01,\n",
       "          7.41414541e-01, 7.99948443e-01, 3.83708949e-01,\n",
       "          2.99609637e-02, 2.15233010e-01],\n",
       "         [9.59084305e-01, 6.85050046e-01, 1.97590437e-01,\n",
       "          2.13760532e-01, 6.68012545e-01, 5.34710288e-01,\n",
       "          4.49467820e-01, 5.13916864e-01]],\n",
       "\n",
       "        [[3.46085016e-01, 6.77572050e-01, 4.38433887e-02,\n",
       "          2.09757118e-01, 6.48772587e-01, 2.45252454e-01,\n",
       "          4.05199287e-01, 9.82806929e-01],\n",
       "         [4.02535386e-01, 8.75780725e-01, 5.40090225e-01,\n",
       "          8.61853844e-01, 7.72278167e-01, 3.16380422e-01,\n",
       "          9.27903948e-01, 7.07276867e-01]],\n",
       "\n",
       "        [[3.57868629e-01, 7.14602710e-01, 6.50497561e-01,\n",
       "          1.56517840e-01, 9.64106649e-01, 1.40168047e-01,\n",
       "          2.57864965e-01, 3.70871352e-01],\n",
       "         [5.33620774e-01, 2.73536918e-01, 2.06198229e-01,\n",
       "          2.23439597e-01, 4.45450349e-01, 8.60114916e-01,\n",
       "          1.30674726e-01, 4.03652211e-01]],\n",
       "\n",
       "        [[6.32499696e-01, 9.28164317e-01, 5.56125109e-01,\n",
       "          4.81413469e-01, 9.65485691e-01, 9.10239840e-01,\n",
       "          7.62355419e-01, 9.98080964e-01],\n",
       "         [1.27632684e-01, 6.52732399e-01, 5.21457011e-01,\n",
       "          2.55850852e-01, 4.07969550e-02, 6.21814655e-01,\n",
       "          1.12472565e-01, 2.89844289e-01]],\n",
       "\n",
       "        [[5.99196021e-01, 5.23065439e-01, 1.37384652e-01,\n",
       "          4.18361041e-02, 4.68091657e-02, 4.17855607e-02,\n",
       "          1.55911671e-02, 8.68633296e-01],\n",
       "         [2.66187324e-01, 8.59300124e-01, 1.63468355e-01,\n",
       "          6.88670734e-01, 8.45467595e-01, 8.14481081e-01,\n",
       "          9.79630523e-01, 8.21247386e-01]]],\n",
       "\n",
       "\n",
       "       [[[3.00506446e-01, 7.75214984e-01, 8.14996541e-01,\n",
       "          2.97782263e-02, 5.31176026e-01, 1.74984660e-01,\n",
       "          4.44970401e-01, 6.06130653e-01],\n",
       "         [2.26428133e-01, 8.24351709e-01, 1.88296400e-01,\n",
       "          9.71687133e-01, 7.20248326e-01, 8.45599925e-01,\n",
       "          4.68170113e-01, 7.66014852e-01]],\n",
       "\n",
       "        [[1.01170719e-01, 9.47714637e-01, 1.45878860e-01,\n",
       "          1.25719241e-01, 5.86502865e-01, 2.35354019e-01,\n",
       "          5.33389365e-01, 1.03311928e-01],\n",
       "         [8.30932259e-01, 8.91123359e-01, 5.03908919e-01,\n",
       "          5.97199660e-01, 7.29286839e-01, 2.14235066e-01,\n",
       "          9.82694401e-01, 9.16243390e-01]],\n",
       "\n",
       "        [[4.55610496e-01, 2.17901539e-02, 4.57267178e-01,\n",
       "          8.18659994e-01, 7.65308377e-01, 3.54564125e-01,\n",
       "          7.24307598e-01, 8.28093720e-02],\n",
       "         [9.35655606e-01, 8.41652509e-01, 8.23583278e-01,\n",
       "          7.40605129e-01, 6.20291114e-01, 8.09633594e-01,\n",
       "          9.77786406e-01, 6.71939209e-01]],\n",
       "\n",
       "        [[3.98618955e-01, 3.04735295e-01, 2.90533690e-01,\n",
       "          7.89950145e-01, 7.83548222e-02, 4.92829785e-01,\n",
       "          3.14532028e-01, 1.07488210e-01],\n",
       "         [6.54612036e-01, 7.30149471e-02, 6.97526256e-01,\n",
       "          4.39697522e-01, 4.67712654e-01, 3.34789178e-01,\n",
       "          8.59527997e-01, 1.47334643e-02]],\n",
       "\n",
       "        [[8.55063197e-01, 4.85872022e-01, 5.61512550e-01,\n",
       "          5.86478376e-01, 9.22326386e-01, 2.29383291e-01,\n",
       "          7.13349993e-01, 5.58548942e-01],\n",
       "         [2.39828281e-01, 2.02806737e-01, 8.81125012e-01,\n",
       "          9.87771614e-01, 8.50432823e-01, 3.10649818e-01,\n",
       "          2.72434591e-01, 4.27759224e-01]]],\n",
       "\n",
       "\n",
       "       [[[9.19266966e-02, 4.89626891e-01, 8.91219527e-01,\n",
       "          3.95970423e-01, 6.00440048e-01, 6.28594032e-01,\n",
       "          3.63456742e-01, 6.86034421e-01],\n",
       "         [8.90966214e-01, 9.98103110e-01, 7.85356431e-01,\n",
       "          8.20661958e-01, 1.57929979e-01, 7.58288130e-01,\n",
       "          8.16223522e-01, 4.79301796e-01]],\n",
       "\n",
       "        [[1.34718109e-01, 7.72940401e-01, 8.72865973e-03,\n",
       "          7.26371795e-01, 5.37373025e-01, 3.20388540e-01,\n",
       "          8.21301779e-01, 6.29290840e-01],\n",
       "         [4.01368954e-02, 1.15676057e-01, 1.21842693e-01,\n",
       "          1.69329490e-01, 9.21329800e-01, 3.40535480e-01,\n",
       "          6.63276813e-01, 3.93826898e-01]],\n",
       "\n",
       "        [[6.96944301e-01, 8.80814364e-01, 8.54860401e-01,\n",
       "          6.43767016e-01, 7.60460070e-01, 1.00023433e-01,\n",
       "          9.03378457e-01, 1.55145294e-01],\n",
       "         [6.93625449e-01, 4.49753357e-03, 2.15322468e-01,\n",
       "          1.01314421e-01, 5.59081134e-01, 2.80565189e-01,\n",
       "          6.25226168e-02, 4.71297618e-01]],\n",
       "\n",
       "        [[5.41755465e-01, 5.80562119e-01, 5.29454718e-01,\n",
       "          4.65561000e-01, 7.81270812e-01, 8.26184756e-02,\n",
       "          2.78779661e-01, 8.36427003e-01],\n",
       "         [2.94954716e-01, 6.12016991e-01, 5.53535815e-02,\n",
       "          7.44771867e-01, 8.95389153e-02, 4.62697886e-01,\n",
       "          4.36363821e-01, 7.07574690e-01]],\n",
       "\n",
       "        [[5.88178892e-01, 7.76722182e-01, 8.67724176e-02,\n",
       "          2.54969347e-01, 1.49095327e-01, 3.30548367e-02,\n",
       "          2.27039659e-01, 5.58167108e-01],\n",
       "         [7.04559847e-01, 3.33918993e-01, 9.48769891e-01,\n",
       "          2.32328385e-01, 1.80308536e-01, 1.06560640e-01,\n",
       "          5.97901301e-01, 3.22088134e-04]]]])"
      ]
     },
     "execution_count": 14,
     "metadata": {},
     "output_type": "execute_result"
    }
   ],
   "source": [
    "multi"
   ]
  },
  {
   "cell_type": "code",
   "execution_count": 16,
   "metadata": {},
   "outputs": [],
   "source": [
    "using_one = np.ones((4,5))"
   ]
  },
  {
   "cell_type": "code",
   "execution_count": 17,
   "metadata": {},
   "outputs": [
    {
     "data": {
      "text/plain": [
       "array([[1., 1., 1., 1., 1.],\n",
       "       [1., 1., 1., 1., 1.],\n",
       "       [1., 1., 1., 1., 1.],\n",
       "       [1., 1., 1., 1., 1.]])"
      ]
     },
     "execution_count": 17,
     "metadata": {},
     "output_type": "execute_result"
    }
   ],
   "source": [
    "using_one"
   ]
  },
  {
   "cell_type": "code",
   "execution_count": 18,
   "metadata": {},
   "outputs": [],
   "source": [
    "arr_one = np.random.rand(2,4)"
   ]
  },
  {
   "cell_type": "code",
   "execution_count": 19,
   "metadata": {},
   "outputs": [],
   "source": [
    "array_two = np.random.rand(2,4)"
   ]
  },
  {
   "cell_type": "code",
   "execution_count": 20,
   "metadata": {},
   "outputs": [
    {
     "data": {
      "text/plain": [
       "array([[0.34784375, 0.87527968, 0.17077569, 0.34050045],\n",
       "       [0.32300975, 0.99662945, 0.37040479, 0.10369778]])"
      ]
     },
     "execution_count": 20,
     "metadata": {},
     "output_type": "execute_result"
    }
   ],
   "source": [
    "array_two"
   ]
  },
  {
   "cell_type": "code",
   "execution_count": 21,
   "metadata": {},
   "outputs": [
    {
     "data": {
      "text/plain": [
       "array([[0.52285679, 0.37763525, 0.29448756, 0.18308838],\n",
       "       [0.75256205, 0.86635155, 0.25361244, 0.60696296]])"
      ]
     },
     "execution_count": 21,
     "metadata": {},
     "output_type": "execute_result"
    }
   ],
   "source": [
    "arr_one"
   ]
  },
  {
   "cell_type": "code",
   "execution_count": 23,
   "metadata": {},
   "outputs": [],
   "source": [
    "result = arr_one + array_two"
   ]
  },
  {
   "cell_type": "code",
   "execution_count": 26,
   "metadata": {},
   "outputs": [],
   "source": [
    "multiply = arr_one * array_two"
   ]
  },
  {
   "cell_type": "code",
   "execution_count": 27,
   "metadata": {},
   "outputs": [
    {
     "data": {
      "text/plain": [
       "(2, 4)"
      ]
     },
     "execution_count": 27,
     "metadata": {},
     "output_type": "execute_result"
    }
   ],
   "source": [
    "arr_one.shape"
   ]
  },
  {
   "cell_type": "code",
   "execution_count": 28,
   "metadata": {},
   "outputs": [
    {
     "data": {
      "text/plain": [
       "(2, 4)"
      ]
     },
     "execution_count": 28,
     "metadata": {},
     "output_type": "execute_result"
    }
   ],
   "source": [
    "multiply.shape"
   ]
  },
  {
   "cell_type": "code",
   "execution_count": 33,
   "metadata": {},
   "outputs": [],
   "source": [
    "m_1 = np.random.rand(4,2)"
   ]
  },
  {
   "cell_type": "code",
   "execution_count": 37,
   "metadata": {},
   "outputs": [],
   "source": [
    "m2 = np.random.rand(2,4)"
   ]
  },
  {
   "cell_type": "code",
   "execution_count": 38,
   "metadata": {},
   "outputs": [],
   "source": [
    "s = np.dot(m_1 , m2)"
   ]
  },
  {
   "cell_type": "code",
   "execution_count": 39,
   "metadata": {},
   "outputs": [
    {
     "data": {
      "text/plain": [
       "array([[0.90016262, 1.08287181, 0.90086985, 0.56578066],\n",
       "       [0.69410146, 0.78901427, 0.67739728, 0.39779291],\n",
       "       [0.32069406, 0.49802918, 0.363062  , 0.2954982 ],\n",
       "       [1.172637  , 1.63565201, 1.25798362, 0.92533435]])"
      ]
     },
     "execution_count": 39,
     "metadata": {},
     "output_type": "execute_result"
    }
   ],
   "source": [
    "s"
   ]
  },
  {
   "cell_type": "code",
   "execution_count": 40,
   "metadata": {},
   "outputs": [
    {
     "data": {
      "text/plain": [
       "(4, 4)"
      ]
     },
     "execution_count": 40,
     "metadata": {},
     "output_type": "execute_result"
    }
   ],
   "source": [
    "s.shape"
   ]
  },
  {
   "cell_type": "code",
   "execution_count": null,
   "metadata": {},
   "outputs": [],
   "source": []
  }
 ],
 "metadata": {
  "kernelspec": {
   "display_name": "ai_env",
   "language": "python",
   "name": "python3"
  },
  "language_info": {
   "codemirror_mode": {
    "name": "ipython",
    "version": 3
   },
   "file_extension": ".py",
   "mimetype": "text/x-python",
   "name": "python",
   "nbconvert_exporter": "python",
   "pygments_lexer": "ipython3",
   "version": "3.10.13"
  }
 },
 "nbformat": 4,
 "nbformat_minor": 2
}
