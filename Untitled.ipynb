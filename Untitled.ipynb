{
 "cells": [
  {
   "cell_type": "code",
   "execution_count": 1,
   "id": "7580afaa-bac2-4b66-b487-54fc15844d25",
   "metadata": {},
   "outputs": [
    {
     "name": "stdout",
     "output_type": "stream",
     "text": [
      "The horizontal speed of the plane is: -333.33333333333337 km/hr\n"
     ]
    }
   ],
   "source": [
    "# Given values\n",
    "s = 10  # km (distance between the airplane and the radar station)\n",
    "ds_dt = -400  # km/hr (rate of change of s)\n",
    "h = 6  # km (height of the airplane above the ground)\n",
    "\n",
    "# Using the Pythagorean theorem: s^2 = x^2 + h^2\n",
    "# Differentiating both sides with respect to time (t)\n",
    "# 2s * ds/dt = 2x * dx/dt\n",
    "# Solving for dx/dt\n",
    "dx_dt = (s / (2 * h)) * ds_dt\n",
    "\n",
    "# Printing the result\n",
    "print(\"The horizontal speed of the plane is:\", dx_dt, \"km/hr\")\n"
   ]
  },
  {
   "cell_type": "code",
   "execution_count": null,
   "id": "54daf271-44d1-4f31-bce2-58bfbad29b95",
   "metadata": {},
   "outputs": [],
   "source": []
  }
 ],
 "metadata": {
  "kernelspec": {
   "display_name": "ai_env",
   "language": "python",
   "name": "ai_env"
  },
  "language_info": {
   "codemirror_mode": {
    "name": "ipython",
    "version": 3
   },
   "file_extension": ".py",
   "mimetype": "text/x-python",
   "name": "python",
   "nbconvert_exporter": "python",
   "pygments_lexer": "ipython3",
   "version": "3.10.13"
  }
 },
 "nbformat": 4,
 "nbformat_minor": 5
}
