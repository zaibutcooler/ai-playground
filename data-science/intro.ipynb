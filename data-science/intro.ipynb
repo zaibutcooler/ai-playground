{
 "cells": [
  {
   "cell_type": "markdown",
   "id": "1d84a434-5aaf-4590-ba6f-fba2318366e4",
   "metadata": {},
   "source": [
    "## What is Data-Science?\n",
    "\n",
    "- Turning data into information.\n",
    "\n",
    "- Analyzing data into insights.\n",
    "\n",
    "- Identifying trends, patterns and correlations.\n",
    "\n",
    "- Applying and understanding.\n",
    "  "
   ]
  },
  {
   "cell_type": "markdown",
   "id": "4afad5d3-0cca-4cdb-8319-bcd3f298005d",
   "metadata": {},
   "source": [
    "## What does a data-scientist do?\n",
    "\n",
    "Problem Solving is the key \n",
    "\n",
    "Questions < > Data\n",
    "\n",
    "Collecting -> Curating -> Cleaning -> Visulising -> Analyze -> Modeling(Machine Learning)"
   ]
  },
  {
   "cell_type": "markdown",
   "id": "0a6fdd2b-5620-4ef2-adea-c7cb8e7555b6",
   "metadata": {},
   "source": [
    "### What we need??\n",
    "\n",
    "Statistics\n",
    "Types of means, Fluctuations in data\n",
    "\n",
    "Data Visualization\n",
    "\n",
    "\n",
    "\n"
   ]
  },
  {
   "cell_type": "markdown",
   "id": "e31c4a3b-1185-4a3d-812a-fde6d84088d8",
   "metadata": {},
   "source": [
    "### Different Types of data"
   ]
  },
  {
   "cell_type": "markdown",
   "id": "7b9a4d2d-500d-4d1f-952c-ae112e88b940",
   "metadata": {},
   "source": [
    "#### Numerical (Quantitive) \n",
    " \n",
    " Discreate (No Decimals)\n",
    " \n",
    " Continuous (Can be Decimals)\n"
   ]
  },
  {
   "cell_type": "markdown",
   "id": "168905ea-9968-49d9-bf35-998d459aa2a3",
   "metadata": {},
   "source": [
    "#### Categorical (Qualitive)\n",
    "\n",
    "No mathematical mearning\n",
    "\n",
    "eg: Male, Female\n",
    "\n"
   ]
  },
  {
   "cell_type": "markdown",
   "id": "8b0dcca3-e3e9-4255-9386-ec5b3c910a96",
   "metadata": {},
   "source": [
    "#### Ordinal\n",
    "\n",
    "Mixing numerical and categorical. (Can compare but not as straightforward)\n",
    "\n",
    "eg: Hotel Rating, bad -> neutral -> good -> excellent"
   ]
  },
  {
   "cell_type": "markdown",
   "id": "31a64f5b-e4b1-4497-93b1-e4edbddbf722",
   "metadata": {},
   "source": [
    "### Different types of averages"
   ]
  },
  {
   "cell_type": "markdown",
   "id": "9ac70c32-e5a0-419d-9594-480cccca3b92",
   "metadata": {},
   "source": [
    "#### Mean\n",
    "Average of the dataset\n",
    "\n",
    "#### Median\n",
    "Center value of the dataset\n",
    "\n",
    "#### Mode\n",
    "Most common value of the dataset"
   ]
  },
  {
   "cell_type": "markdown",
   "id": "620bc068-0ddc-4d48-b45a-ddad86d09e77",
   "metadata": {},
   "source": [
    "### Types of spread"
   ]
  },
  {
   "cell_type": "markdown",
   "id": "884b0c8b-772c-4d96-9f76-58b01cc50e90",
   "metadata": {},
   "source": [
    "#### Range\n",
    "\n",
    "The difference between the maximum and minimum value of your data\n",
    "\n",
    "#### Domain\n",
    "\n",
    "The values that your datat points can take on\n",
    "\n",
    "\n",
    "#### Variance\n",
    "How much the values of the data differ from mean value\n",
    "\n",
    "#### Standard Deviation\n",
    "Square root of vairance\n",
    "\n",
    "\n",
    "#### Covariance \n",
    "How much one value vaires when the other varies (Relationship??)\n",
    "\n",
    "#### Correlation\n",
    "Covariance divided by the standard deviation of each variable\n",
    "\n",
    "eg: Coffee and tireness (Postive correlation) , coffee and weather (No Correlation)"
   ]
  },
  {
   "cell_type": "markdown",
   "id": "09679bc1-51e2-489a-bfcb-bf33be79c589",
   "metadata": {},
   "source": [
    "### Quantiles\n",
    "\n",
    "Splitting the data\n",
    "\n",
    "Eg: Splitting data into 4 equal regions give you the 'quartiles'\n",
    "\n",
    "### Percentiles \n",
    "\n",
    "Splitting the data into 100 equal segments gives percentiles\n",
    "\n"
   ]
  },
  {
   "cell_type": "markdown",
   "id": "8b4ea812-b2ed-44b6-8e51-c75dd75e8cac",
   "metadata": {},
   "source": [
    "## Data Visualizations "
   ]
  },
  {
   "cell_type": "markdown",
   "id": "7431d642-0bcc-4235-8d97-e78d07134d59",
   "metadata": {},
   "source": [
    "Presenting data\n",
    "\n",
    "Intepreting data\n",
    "\n"
   ]
  },
  {
   "cell_type": "markdown",
   "id": "8a731072-927b-4f87-b27e-2b7a9eb746a9",
   "metadata": {},
   "source": [
    "### One variable graphs\n"
   ]
  },
  {
   "cell_type": "markdown",
   "id": "f0b9e1f2-6bfb-4045-9895-971247746f35",
   "metadata": {},
   "source": [
    "#### Histogram\n",
    "\n",
    "Gaussian Like (Normal Distributions)\n",
    "\n",
    "Exponentially Decaying\n",
    "\n",
    "Two Peaks\n"
   ]
  },
  {
   "cell_type": "markdown",
   "id": "dd2fc591-65c5-4d7a-81cd-d9cd8d2ab14c",
   "metadata": {},
   "source": [
    "\n",
    "#### Bar Plots\n",
    "\n",
    "\n"
   ]
  },
  {
   "cell_type": "markdown",
   "id": "048abcb3-0507-4076-9359-157675aec444",
   "metadata": {},
   "source": [
    "#### Pie Charts"
   ]
  },
  {
   "cell_type": "markdown",
   "id": "40473b8d-c1ff-4686-9d9d-06b4ddc0d0de",
   "metadata": {},
   "source": [
    "### Two variable Graphs"
   ]
  },
  {
   "cell_type": "markdown",
   "id": "3926a96d-0e2b-40c5-98f4-f0abd2c0b1e5",
   "metadata": {},
   "source": [
    "#### Scatter Plot"
   ]
  },
  {
   "cell_type": "markdown",
   "id": "b1c887a2-1783-48c7-86c2-6ea4d5e4f6a2",
   "metadata": {},
   "source": [
    "#### Line Plots"
   ]
  },
  {
   "cell_type": "markdown",
   "id": "1a437747-62ad-4d44-8ad2-28e162d30307",
   "metadata": {},
   "source": [
    "#### 2D Histograms"
   ]
  },
  {
   "cell_type": "markdown",
   "id": "4432c6db-df01-4571-b0bd-224a3c069673",
   "metadata": {},
   "source": [
    "#### Box and whisker Plot"
   ]
  },
  {
   "cell_type": "markdown",
   "id": "c1583f92-03e2-419b-8203-f85a508d6075",
   "metadata": {},
   "source": [
    "### Three and higher variables"
   ]
  },
  {
   "cell_type": "markdown",
   "id": "b2e844a3-99f6-4f7c-9251-b279e9867c4e",
   "metadata": {},
   "source": [
    "#### Heat Map"
   ]
  },
  {
   "cell_type": "markdown",
   "id": "5ad4cedf-c196-4830-a0cd-a6d7296e5ba0",
   "metadata": {},
   "source": [
    "#### Multivarialbe bar plot"
   ]
  },
  {
   "cell_type": "markdown",
   "id": "68ced7c2-9a43-4e50-b1b5-07a120a0c742",
   "metadata": {},
   "source": [
    "#### Lower Dimensional Graph"
   ]
  },
  {
   "cell_type": "code",
   "execution_count": null,
   "id": "dfcc65e6-b4c3-48d2-b608-2ef4611be4b0",
   "metadata": {},
   "outputs": [],
   "source": []
  }
 ],
 "metadata": {
  "kernelspec": {
   "display_name": "ai_env",
   "language": "python",
   "name": "ai_env"
  },
  "language_info": {
   "codemirror_mode": {
    "name": "ipython",
    "version": 3
   },
   "file_extension": ".py",
   "mimetype": "text/x-python",
   "name": "python",
   "nbconvert_exporter": "python",
   "pygments_lexer": "ipython3",
   "version": "3.10.13"
  }
 },
 "nbformat": 4,
 "nbformat_minor": 5
}
