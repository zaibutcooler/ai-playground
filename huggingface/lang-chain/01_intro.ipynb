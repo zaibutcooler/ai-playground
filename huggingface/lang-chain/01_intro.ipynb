{
 "cells": [
  {
   "cell_type": "code",
   "execution_count": 1,
   "id": "cf2574b4-ad65-4ed7-a081-87f88949cbd0",
   "metadata": {},
   "outputs": [],
   "source": [
    "import langchain"
   ]
  },
  {
   "cell_type": "code",
   "execution_count": 1,
   "id": "2d81df8e-5ffa-45de-ac95-04dd2b0d4076",
   "metadata": {},
   "outputs": [
    {
     "name": "stdout",
     "output_type": "stream",
     "text": [
      "Cloning Ollama-Companion from git...\n"
     ]
    },
    {
     "name": "stderr",
     "output_type": "stream",
     "text": [
      "The system cannot find the path specified.\n"
     ]
    },
    {
     "name": "stdout",
     "output_type": "stream",
     "text": [
      "Installing some dependencies, please hold on...\n"
     ]
    },
    {
     "name": "stderr",
     "output_type": "stream",
     "text": [
      "The system cannot find the path specified.\n"
     ]
    },
    {
     "name": "stdout",
     "output_type": "stream",
     "text": [
      "Converting line endings in install script...\n"
     ]
    },
    {
     "name": "stderr",
     "output_type": "stream",
     "text": [
      "The system cannot find the path specified.\n",
      "The system cannot find the path specified.\n"
     ]
    },
    {
     "name": "stdout",
     "output_type": "stream",
     "text": [
      "Running the installation script and compiling Llama.cpp...\n"
     ]
    },
    {
     "name": "stderr",
     "output_type": "stream",
     "text": [
      "The system cannot find the path specified.\n",
      "The system cannot find the path specified.\n",
      "The system cannot find the path specified.\n",
      "The system cannot find the path specified.\n",
      "The system cannot find the path specified.\n"
     ]
    },
    {
     "name": "stdout",
     "output_type": "stream",
     "text": [
      "Cleaning up and finalizing setup...\n",
      "Started all apps run the cell below if you want to restart\n"
     ]
    },
    {
     "name": "stderr",
     "output_type": "stream",
     "text": [
      "'python3' is not recognized as an internal or external command,\n",
      "operable program or batch file.\n"
     ]
    },
    {
     "name": "stdout",
     "output_type": "stream",
     "text": [
      "Started all apps run the cell below if you want to restart\n"
     ]
    }
   ],
   "source": [
    "# Clone the repository\n",
    "!git clone --branch Colab-installer https://github.com/Luxadevi/Ollama-Companion.git 2> /dev/null 1>&2\n",
    "print(\"Cloning Ollama-Companion from git...\")\n",
    "\n",
    "# Install virtualenv\n",
    "!sudo apt install virtualenv 2> /dev/null 1>&2\n",
    "print(\"Installing some dependencies, please hold on...\")\n",
    "\n",
    "# Convert Windows line endings to Unix line endings in the install.sh script\n",
    "!sed -i 's/\\r//' /content/Ollama-Companion/install.sh 2> /dev/null 1>&2\n",
    "print(\"Converting line endings in install script...\")\n",
    "\n",
    "# Make the script executable and run it\n",
    "!chmod +x /content/Ollama-Companion/install.sh 2> /dev/null 1>&2\n",
    "print(\"Running the installation script and compiling Llama.cpp...\")\n",
    "!/content/Ollama-Companion/install.sh 2> /dev/null 1>&2\n",
    "\n",
    "# Purge pip cache and clean up temporary files\n",
    "!pip cache purge 2> /dev/null 1>&2\n",
    "!find /tmp -type f -atime +1 -delete 2> /dev/null 1>&2\n",
    "!sudo apt-get clean 2> /dev/null 1>&2\n",
    "!sudo apt-get autoremove 2> /dev/null 1>&2\n",
    "print(\"Cleaning up and finalizing setup...\")\n",
    "print(\"Started all apps run the cell below if you want to restart\")\n",
    "# Run the application\n",
    "!python3 /content/Ollama-Companion/run_app.py\n",
    "print(\"Started all apps run the cell below if you want to restart\")"
   ]
  },
  {
   "cell_type": "code",
   "execution_count": null,
   "id": "2ae55f91-fd7c-427d-b73f-fbed4e290152",
   "metadata": {},
   "outputs": [],
   "source": []
  }
 ],
 "metadata": {
  "kernelspec": {
   "display_name": "Python 3 (ipykernel)",
   "language": "python",
   "name": "python3"
  },
  "language_info": {
   "codemirror_mode": {
    "name": "ipython",
    "version": 3
   },
   "file_extension": ".py",
   "mimetype": "text/x-python",
   "name": "python",
   "nbconvert_exporter": "python",
   "pygments_lexer": "ipython3",
   "version": "3.10.13"
  }
 },
 "nbformat": 4,
 "nbformat_minor": 5
}
