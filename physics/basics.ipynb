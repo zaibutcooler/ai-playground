{
 "cells": [
  {
   "cell_type": "markdown",
   "id": "2492599d-074d-497e-965b-0a2ba908317d",
   "metadata": {},
   "source": [
    "### Newton's Laws of Motion\r\n",
    "\r\n",
    "1st Law: Objects stay still or keep moving at a steady speed unless something pushes or pulls them.\r\n",
    "2nd Law: The harder you push an object, the faster it accelerates. Also, heavier objects need more force to move.\r\n",
    "3rd Law: Every action has an equal and opposite reaction. When you push against something, it pushes back with the sam##  pull.\n",
    "Energy:\r\n",
    "\r\n",
    "Energy is the ability to do work. There are different types like kinetic energy (energy of motion) and potential energy (stored energy).\r\n",
    "Work is done when a force moves something over a\n",
    "\n",
    "###  distance.\r\n",
    "Electricity ad Magnetism:\r\n",
    "\r\n",
    "Opposite charges attract, like charges repel. This is how electricity works.\r\n",
    "Magnetism is the force that pulls objects together or pushes them apart. Magnets have two poles: north and south. Opposite poles attract, and simila\n",
    "\n",
    "### r poles repel.\r\n",
    "aves and Optics:\r\n",
    "\r\n",
    "Waves are how energy moves from one place to another. Light is a type of wave.\r\n",
    "Lenses and mirrors can bend light. Concave lenses spread light out, while convex lenses \n",
    "\n",
    "### bring it togeter.\r\n",
    "Modern Physics:\r\n",
    "\r\n",
    "Einstein's theory of relativity says that time and space can change depending on how fast you're moving. Energy and mass are the s\n",
    "\n",
    "### ame thing (E = c^2).\r\n",
    "Nuclear Physics:\r\n",
    "\r\n",
    "Atoms can break apart in a process called radioactive decay, releasing energy.\r\n",
    "Inside an atom, there's a lot of energy holding everything together. When you break an atom apart, you rel\n",
    "\n",
    "### ease some of tht energy.\r\n",
    "Fluid Mechanics:\r\n",
    "\r\n",
    "Fluids like liquids and gases can flow and exert pressure. The faster a fluid moves, the lower its pressure. This is why airplanes can fly and ships can float."
   ]
  },
  {
   "cell_type": "markdown",
   "id": "9858e325-60ad-42e1-aa6a-f7067a8b803a",
   "metadata": {},
   "source": [
    "\n",
    "### Gravitation\n",
    "\n",
    "Everything with mass attracts other things with mass. The bigger the mass, the stronger the pull. Distance matters too; the farther apart objects are, the weaker the pull.\n"
   ]
  },
  {
   "cell_type": "code",
   "execution_count": null,
   "id": "307bd90b-43af-480f-89e8-9c442dcc3381",
   "metadata": {},
   "outputs": [],
   "source": []
  }
 ],
 "metadata": {
  "kernelspec": {
   "display_name": "Python 3 (ipykernel)",
   "language": "python",
   "name": "python3"
  },
  "language_info": {
   "codemirror_mode": {
    "name": "ipython",
    "version": 3
   },
   "file_extension": ".py",
   "mimetype": "text/x-python",
   "name": "python",
   "nbconvert_exporter": "python",
   "pygments_lexer": "ipython3",
   "version": "3.10.13"
  }
 },
 "nbformat": 4,
 "nbformat_minor": 5
}
