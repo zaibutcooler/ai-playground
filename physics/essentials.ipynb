{
 "cells": [
  {
   "cell_type": "markdown",
   "id": "18f015b5-6c24-46c0-8904-894a63e1e9bc",
   "metadata": {},
   "source": [
    "# Physics\n",
    "\n",
    "The art of our reality"
   ]
  },
  {
   "cell_type": "markdown",
   "id": "694fe2e0-c9f0-44dd-8482-50f0ef546575",
   "metadata": {},
   "source": [
    "## Classical Mechanics\n",
    "\n",
    "Father of classical Mechanics Issac Newton\n",
    "\n",
    "\n",
    "### F = ma\n",
    "Force is a push or pull\n",
    "\n",
    "Mass is a measure of inertia - resistance to change in motion\n",
    "\n",
    "Accelerateion is how rapidly your velocity is changing\n",
    "\n",
    "\n",
    "### F = G m1 m2 / d^2\n",
    "\n",
    "\n",
    "\n",
    "### W = F x D\n",
    "\n",
    "work is force ttimes distance\n",
    "\n",
    "\n"
   ]
  },
  {
   "cell_type": "markdown",
   "id": "2fc37ea3-7cec-481d-b71c-d1d66f93a8e5",
   "metadata": {},
   "source": [
    "## Energy and thermodynamics\n"
   ]
  },
  {
   "cell_type": "markdown",
   "id": "2844b5e9-a5d3-427c-85d3-f4036750e724",
   "metadata": {},
   "source": [
    "## Electromagnetism"
   ]
  },
  {
   "cell_type": "markdown",
   "id": "9814af54-404f-4a32-afbc-e59971189d23",
   "metadata": {},
   "source": [
    "## Relativity "
   ]
  },
  {
   "cell_type": "markdown",
   "id": "6fb30e46-add4-4767-a3c5-6a4744b896e5",
   "metadata": {},
   "source": [
    "## Quantum Mechanics "
   ]
  },
  {
   "cell_type": "code",
   "execution_count": null,
   "id": "2566ec8a-6b2e-48fa-962b-5a7e5f9b78a0",
   "metadata": {},
   "outputs": [],
   "source": []
  }
 ],
 "metadata": {
  "kernelspec": {
   "display_name": "Python 3 (ipykernel)",
   "language": "python",
   "name": "python3"
  },
  "language_info": {
   "codemirror_mode": {
    "name": "ipython",
    "version": 3
   },
   "file_extension": ".py",
   "mimetype": "text/x-python",
   "name": "python",
   "nbconvert_exporter": "python",
   "pygments_lexer": "ipython3",
   "version": "3.10.13"
  }
 },
 "nbformat": 4,
 "nbformat_minor": 5
}
