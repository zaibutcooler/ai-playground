{
 "cells": [
  {
   "cell_type": "code",
   "execution_count": 1,
   "id": "43d74490-09f6-42f0-84ef-7b20ee56f2fb",
   "metadata": {},
   "outputs": [],
   "source": [
    "import torch \n",
    "from torch import nn\n"
   ]
  },
  {
   "cell_type": "code",
   "execution_count": 1,
   "id": "e7f12fa2-d057-47d8-9661-c6e4ff40f486",
   "metadata": {},
   "outputs": [
    {
     "ename": "ModuleNotFoundError",
     "evalue": "No module named 'tiktoken'",
     "output_type": "error",
     "traceback": [
      "\u001b[1;31m---------------------------------------------------------------------------\u001b[0m",
      "\u001b[1;31mModuleNotFoundError\u001b[0m                       Traceback (most recent call last)",
      "Cell \u001b[1;32mIn[1], line 3\u001b[0m\n\u001b[0;32m      1\u001b[0m \u001b[38;5;28;01mimport\u001b[39;00m \u001b[38;5;21;01mos\u001b[39;00m\n\u001b[0;32m      2\u001b[0m \u001b[38;5;28;01mimport\u001b[39;00m \u001b[38;5;21;01mrequests\u001b[39;00m\n\u001b[1;32m----> 3\u001b[0m \u001b[38;5;28;01mimport\u001b[39;00m \u001b[38;5;21;01mtiktoken\u001b[39;00m\n\u001b[0;32m      4\u001b[0m \u001b[38;5;28;01mimport\u001b[39;00m \u001b[38;5;21;01mnumpy\u001b[39;00m \u001b[38;5;28;01mas\u001b[39;00m \u001b[38;5;21;01mnp\u001b[39;00m\n\u001b[0;32m      6\u001b[0m \u001b[38;5;66;03m# download the tiny shakespeare dataset\u001b[39;00m\n",
      "\u001b[1;31mModuleNotFoundError\u001b[0m: No module named 'tiktoken'"
     ]
    }
   ],
   "source": [
    "import os\n",
    "import requests\n",
    "import tiktoken\n",
    "import numpy as np\n",
    "\n",
    "# download the tiny shakespeare dataset\n",
    "input_file_path = os.path.join(os.path.dirname(__file__), 'input.txt')\n",
    "if not os.path.exists(input_file_path):\n",
    "    data_url = 'https://raw.githubusercontent.com/karpathy/char-rnn/master/data/tinyshakespeare/input.txt'\n",
    "    with open(input_file_path, 'w', encoding='utf-8') as f:\n",
    "        f.write(requests.get(data_url).text)\n",
    "\n",
    "# with open(input_file_path, 'r', encoding='utf-8') as f:\n",
    "#     data = f.read()\n",
    "# n = len(data)\n",
    "# train_data = data[:int(n*0.9)]\n",
    "# val_data = data[int(n*0.9):]\n",
    "\n",
    "# # encode with tiktoken gpt2 bpe\n",
    "# enc = tiktoken.get_encoding(\"gpt2\")\n",
    "# train_ids = enc.encode_ordinary(train_data)\n",
    "# val_ids = enc.encode_ordinary(val_data)\n",
    "# print(f\"train has {len(train_ids):,} tokens\")\n",
    "# print(f\"val has {len(val_ids):,} tokens\")\n",
    "\n",
    "# # export to bin files\n",
    "# train_ids = np.array(train_ids, dtype=np.uint16)\n",
    "# val_ids = np.array(val_ids, dtype=np.uint16)\n",
    "# train_ids.tofile(os.path.join(os.path.dirname(__file__), 'train.bin'))\n",
    "# val_ids.tofile(os.path.join(os.path.dirname(__file__), 'val.bin'))\n",
    "\n",
    "# # train.bin has 301,966 tokens\n",
    "# # val.bin has 36,059 tokens"
   ]
  },
  {
   "cell_type": "code",
   "execution_count": null,
   "id": "5e9ea741-adc8-4f70-96d5-066394d19b84",
   "metadata": {},
   "outputs": [],
   "source": []
  }
 ],
 "metadata": {
  "kernelspec": {
   "display_name": "ai_env",
   "language": "python",
   "name": "ai_env"
  },
  "language_info": {
   "codemirror_mode": {
    "name": "ipython",
    "version": 3
   },
   "file_extension": ".py",
   "mimetype": "text/x-python",
   "name": "python",
   "nbconvert_exporter": "python",
   "pygments_lexer": "ipython3",
   "version": "3.10.13"
  }
 },
 "nbformat": 4,
 "nbformat_minor": 5
}
