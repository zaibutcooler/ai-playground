{
 "cells": [
  {
   "cell_type": "markdown",
   "id": "d94bb100-ad5a-4856-b7df-90e71ab5ee82",
   "metadata": {},
   "source": [
    "## Activation functions\n",
    "\n",
    "An activation function is a mathematical function that is applied to the output of each neuron in a neural network. It introduces non-linearity to the network, allowing it to learn complex patterns in the data. Activation functions determine the output of a neural network, whether it should be activated (fired) or not, based on the input it receives.\n"
   ]
  },
  {
   "cell_type": "markdown",
   "id": "16daa49b-133f-4e9e-a4b9-cd0e0726034e",
   "metadata": {},
   "source": [
    "#### Sigmoid Function"
   ]
  },
  {
   "cell_type": "code",
   "execution_count": null,
   "id": "f6b5022f-f03a-4cea-8305-9e2080a6e716",
   "metadata": {},
   "outputs": [],
   "source": [
    "def sigmoid(x):\n",
    "    return 1 / (1 + np.exp(-x))"
   ]
  },
  {
   "cell_type": "markdown",
   "id": "2292cee3-72ec-41e5-ba97-a601c7f9874b",
   "metadata": {},
   "source": [
    "#### Relu"
   ]
  },
  {
   "cell_type": "code",
   "execution_count": null,
   "id": "c9926d35-24a4-48ce-8a39-7ee68bac57eb",
   "metadata": {},
   "outputs": [],
   "source": [
    "def relu(x):\n",
    "    return np.maximum(0, x)"
   ]
  },
  {
   "cell_type": "markdown",
   "id": "37b86c1d-9ae7-4108-81d8-4fb41af5d88e",
   "metadata": {},
   "source": [
    "#### Leaky Relu"
   ]
  },
  {
   "cell_type": "code",
   "execution_count": null,
   "id": "e89fcf6c-7e03-44ac-91d2-c19cd0adc34a",
   "metadata": {},
   "outputs": [],
   "source": [
    "def leaky_relu(x, alpha=0.01):\n",
    "    return np.where(x > 0, x, alpha * x)"
   ]
  },
  {
   "cell_type": "markdown",
   "id": "a300ed8c-fb3e-4642-b112-80da2b7b5b3e",
   "metadata": {},
   "source": [
    "#### Softmax"
   ]
  },
  {
   "cell_type": "code",
   "execution_count": null,
   "id": "f12d1276-0f22-4ae2-b1b0-8e7573a1022f",
   "metadata": {},
   "outputs": [],
   "source": []
  },
  {
   "cell_type": "markdown",
   "id": "0e1b09b3-149f-48e3-8968-79a452cb897a",
   "metadata": {},
   "source": [
    "#### Tanh"
   ]
  },
  {
   "cell_type": "code",
   "execution_count": null,
   "id": "d6db1d8e-a207-4d16-abb2-59df2a33f3f7",
   "metadata": {},
   "outputs": [],
   "source": [
    "def tanh(x):\n",
    "    return np.tanh(x)"
   ]
  },
  {
   "cell_type": "code",
   "execution_count": null,
   "id": "943fb338-99c8-4f28-980e-e65f54f39cc5",
   "metadata": {},
   "outputs": [],
   "source": []
  }
 ],
 "metadata": {
  "kernelspec": {
   "display_name": "Python 3 (ipykernel)",
   "language": "python",
   "name": "python3"
  },
  "language_info": {
   "codemirror_mode": {
    "name": "ipython",
    "version": 3
   },
   "file_extension": ".py",
   "mimetype": "text/x-python",
   "name": "python",
   "nbconvert_exporter": "python",
   "pygments_lexer": "ipython3",
   "version": "3.10.13"
  }
 },
 "nbformat": 4,
 "nbformat_minor": 5
}
