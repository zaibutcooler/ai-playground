{
 "cells": [
  {
   "cell_type": "markdown",
   "id": "dd730dd0-51f1-436c-a6ca-66439c286e14",
   "metadata": {},
   "source": [
    "## To build a neural networks without using pytorch or tensor flows"
   ]
  },
  {
   "cell_type": "code",
   "execution_count": null,
   "id": "7e2f3956-5fd5-4183-9bfd-d58dbbe630b2",
   "metadata": {},
   "outputs": [],
   "source": []
  }
 ],
 "metadata": {
  "kernelspec": {
   "display_name": "Python 3 (ipykernel)",
   "language": "python",
   "name": "python3"
  },
  "language_info": {
   "codemirror_mode": {
    "name": "ipython",
    "version": 3
   },
   "file_extension": ".py",
   "mimetype": "text/x-python",
   "name": "python",
   "nbconvert_exporter": "python",
   "pygments_lexer": "ipython3",
   "version": "3.10.13"
  }
 },
 "nbformat": 4,
 "nbformat_minor": 5
}
